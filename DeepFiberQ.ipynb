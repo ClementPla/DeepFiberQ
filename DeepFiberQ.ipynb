{
  "cells": [
    {
      "cell_type": "markdown",
      "metadata": {
        "colab_type": "text",
        "id": "view-in-github"
      },
      "source": [
        "<a href=\"https://colab.research.google.com/github/ClementPla/DeepFiberQ/blob/main/DeepFiberQ.ipynb\" target=\"_parent\"><img src=\"https://colab.research.google.com/assets/colab-badge.svg\" alt=\"Open In Colab\"/></a>"
      ]
    },
    {
      "cell_type": "markdown",
      "metadata": {
        "id": "Oi9zjVomHz-c"
      },
      "source": [
        "# Instructions\n",
        "Create a data folder on the left panel and upload your images in it.\n",
        "\n",
        "The accepted formats are tif or czi. But czi seems buggy, so tif preferred for now.\n",
        "\n",
        "## GPUs\n",
        "\n",
        "If available, we recommend using a GPU (available on the top right, in the dropdown, select \"Change runtime type)\""
      ]
    },
    {
      "cell_type": "code",
      "execution_count": 1,
      "metadata": {
        "colab": {
          "base_uri": "https://localhost:8080/"
        },
        "collapsed": true,
        "id": "aJvloPe4x0pD",
        "outputId": "4fc4e526-cf97-4983-99b7-7f8ac1e18386"
      },
      "outputs": [
        {
          "name": "stdout",
          "output_type": "stream",
          "text": [
            "Found existing installation: dnafiber 0.1.950\n",
            "Uninstalling dnafiber-0.1.950:\n",
            "  Successfully uninstalled dnafiber-0.1.950\n",
            "  Installing build dependencies ... \u001b[?25l\u001b[?25hdone\n",
            "  Getting requirements to build wheel ... \u001b[?25l\u001b[?25hdone\n",
            "  Preparing metadata (pyproject.toml) ... \u001b[?25l\u001b[?25hdone\n",
            "  Building wheel for dnafiber (pyproject.toml) ... \u001b[?25l\u001b[?25hdone\n"
          ]
        }
      ],
      "source": [
        "!pip uninstall -y dnafiber\n",
        "!pip install -q git+https://github.com/ClementPla/DeepFiberQ"
      ]
    },
    {
      "cell_type": "code",
      "execution_count": null,
      "metadata": {
        "id": "ob1SN8xByRLM"
      },
      "outputs": [],
      "source": [
        "from dnafiber.data.utils import read_czi, read_tiff\n",
        "# If you are using jpeg or png files, we expect them to already be processed. \n",
        "# You can simply read them with PIL or OpenCV.\n",
        "from dnafiber.deployment import _get_model, MODELS_ZOO, format_results\n",
        "from dnafiber.inference import infer\n",
        "from dnafiber.postprocess.core import refine_segmentation\n"
      ]
    },
    {
      "cell_type": "code",
      "execution_count": null,
      "metadata": {
        "colab": {
          "base_uri": "https://localhost:8080/"
        },
        "id": "eoRNKvgC557p",
        "outputId": "26f9d753-fc6d-40c8-fd0b-5a3c17a93d89"
      },
      "outputs": [
        {
          "name": "stderr",
          "output_type": "stream",
          "text": [
            "/usr/local/lib/python3.11/dist-packages/huggingface_hub/utils/_token.py:90: UserWarning: \n",
            "The secret `HF_TOKEN` does not exist in your Colab secrets.\n",
            "To authenticate with the Hugging Face Hub, create a token in your settings tab (https://huggingface.co/settings/tokens), set it as secret in your Google Colab and restart your session.\n",
            "You will be able to reuse this secret in all of your notebooks.\n",
            "Please note that authentication is recommended but still optional to access public models or datasets.\n",
            "  warnings.warn(\n"
          ]
        }
      ],
      "source": [
        "ROOT_IMG = \"PATH_TO_YOUR_IMAGE_FILE.CZI\"  # or .TIFF # or .JPEG or .PNG\n",
        "pixel_size = 0.13 # Pixel size in micrometers\n",
        "device = \"cuda\"  # or \"cpu\"\n",
        "# You may want to iterate through your images and process them in a loop.\n",
        "# For example, if you have multiple images in a directory, you can use glob or os.listdir to get the file paths.\n",
        "\n",
        "img = read_czi(ROOT_IMG)  # or read_tiff(ROOT_IMG)\n",
        "model = _get_model(MODELS_ZOO[\"SegFormer MiT-B4\"]+ \"_finetuned\") # Load the pre-trained model. \n",
        "# This default model is trained on the SegFormer MiT-B4 architecture, but you can choose any other model from the zoo. \n",
        "# However, it should be the best choice for most images. The postfix \"_finetuned\" indicates that the model has been fine-tuned for DNA fiber segmentation. \n",
        "\n",
        "predicted = infer(model, img, scale=pixel_size, device=device) \n",
        "# This may take a while depending on the size of the image and your GPU.\n",
        "refined = refine_segmentation(predicted)\n",
        "dataframe = format_results(refined, pixel_size=pixel_size)\n",
        "\n",
        "dataframe.to_csv(\"results.csv\", index=False)  # Save results to a CSV file"
      ]
    }
  ],
  "metadata": {
    "accelerator": "GPU",
    "colab": {
      "authorship_tag": "ABX9TyMfM4yoCgtH/ooN9kFBNHVs",
      "gpuType": "T4",
      "include_colab_link": true,
      "provenance": []
    },
    "kernelspec": {
      "display_name": "Python 3",
      "name": "python3"
    },
    "language_info": {
      "name": "python"
    }
  },
  "nbformat": 4,
  "nbformat_minor": 0
}
