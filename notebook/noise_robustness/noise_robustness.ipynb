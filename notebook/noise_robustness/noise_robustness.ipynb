{
 "cells": [
  {
   "cell_type": "code",
   "execution_count": 1,
   "id": "e68b829d",
   "metadata": {},
   "outputs": [
    {
     "name": "stderr",
     "output_type": "stream",
     "text": [
      "/home/clement/miniconda3/envs/dnafiber/lib/python3.12/site-packages/tqdm/auto.py:21: TqdmWarning: IProgress not found. Please update jupyter and ipywidgets. See https://ipywidgets.readthedocs.io/en/stable/user_install.html\n",
      "  from .autonotebook import tqdm as notebook_tqdm\n",
      "/home/clement/miniconda3/envs/dnafiber/lib/python3.12/site-packages/albumentations/__init__.py:28: UserWarning: A new version of Albumentations is available: '2.0.8' (you have '2.0.3'). Upgrade using: pip install -U albumentations. To disable automatic update checks, set the environment variable NO_ALBUMENTATIONS_UPDATE to 1.\n",
      "  check_for_updates()\n",
      "2025-08-28 18:44:29.998 WARNING streamlit.runtime.caching.cache_data_api: No runtime found, using MemoryCacheStorageManager\n",
      "2025-08-28 18:44:30.745 WARNING streamlit.runtime.caching.cache_data_api: No runtime found, using MemoryCacheStorageManager\n",
      "2025-08-28 18:44:30.745 WARNING streamlit.runtime.caching.cache_data_api: No runtime found, using MemoryCacheStorageManager\n"
     ]
    }
   ],
   "source": [
    "%load_ext autoreload\n",
    "%autoreload 2\n",
    "import logging\n",
    "from pathlib import Path\n",
    "import numpy as np\n",
    "import matplotlib.pyplot as plt\n",
    "import pandas as pd\n",
    "import seaborn as sns\n",
    "from tqdm.auto import tqdm\n",
    "from dnafiber.deployment import format_results_to_dataframe\n",
    "from dnafiber.inference import _get_model\n",
    "import math\n",
    "import time\n",
    "\n",
    "import cv2\n",
    "import pandas as pd\n",
    "from dnafiber.postprocess.error_detection import load_model\n",
    "from dnafiber.postprocess import refine_segmentation\n",
    "from dnafiber.ui.inference import ui_inference_cacheless\n",
    "from dnafiber.ui.utils import (\n",
    "    get_image_cacheless,\n",
    ")\n",
    "from dnafiber.deployment import ENSEMBLE, Models\n",
    "\n",
    "for name, l in logging.root.manager.loggerDict.items():\n",
    "    if \"streamlit\" in name:\n",
    "        l.disabled = True"
   ]
  },
  {
   "cell_type": "code",
   "execution_count": null,
   "id": "c819c5a6",
   "metadata": {},
   "outputs": [
    {
     "name": "stderr",
     "output_type": "stream",
     "text": [
      "Processing files:   0%|          | 0/2 [00:00<?, ?it/s]2025-08-28 18:44:35.098 \n",
      "  \u001b[33m\u001b[1mWarning:\u001b[0m to view this Streamlit app on a browser, run it with the following\n",
      "  command:\n",
      "\n",
      "    streamlit run /home/clement/miniconda3/envs/dnafiber/lib/python3.12/site-packages/ipykernel_launcher.py [ARGUMENTS]\n",
      "100%|██████████| 21/21 [00:02<00:00,  8.25it/s]\n"
     ]
    },
    {
     "name": "stdout",
     "output_type": "stream",
     "text": [
      "Prediction time: 18.55 seconds for siNT-01.czi\n"
     ]
    },
    {
     "name": "stderr",
     "output_type": "stream",
     "text": [
      "/home/clement/Documents/Projets/DeepFiberQ/dnafiber/deployment.py:157: RuntimeWarning: divide by zero encountered in scalar divide\n",
      "  data[\"ratio\"].append(f\"{green_length / red_length:.3f}\")\n",
      "100%|██████████| 21/21 [00:01<00:00, 16.25it/s]\n"
     ]
    },
    {
     "name": "stdout",
     "output_type": "stream",
     "text": [
      "Prediction time: 13.68 seconds for siNT-01.czi\n"
     ]
    },
    {
     "name": "stderr",
     "output_type": "stream",
     "text": [
      "/home/clement/Documents/Projets/DeepFiberQ/dnafiber/deployment.py:157: RuntimeWarning: divide by zero encountered in scalar divide\n",
      "  data[\"ratio\"].append(f\"{green_length / red_length:.3f}\")\n",
      "100%|██████████| 21/21 [00:01<00:00, 16.26it/s]\n"
     ]
    }
   ],
   "source": [
    "reverse_channels = False\n",
    "sint_file = Path(\"/home/clement/Documents/data/DNAFiber/Input/YM-2025-20/2025-05-16/siNT-01.czi\")\n",
    "sibrca1_file = Path(\"/home/clement/Documents/data/DNAFiber/Input/YM-2025-20/2025-05-16/siBRCA1-01.czi\")\n",
    "\n",
    "# model2  = _get_model(\"segformer_mit_b4_finetuned\").cuda()\n",
    "detection_model = None\n",
    "# model = [model1, model2]\n",
    "all_results_blurred = []\n",
    "all_images_blurred = []\n",
    "\n",
    "for file in tqdm([sint_file,  sibrca1_file], desc=\"Processing files\"):\n",
    "    image = get_image_cacheless(file, False)\n",
    "   \n",
    "    for sigma in np.arange(0, 8, 1):\n",
    "        ksize = int(2 * math.ceil(3 * sigma) + 1)\n",
    "        gaussian_blurred = cv2.GaussianBlur(image, (ksize, ksize), sigma)\n",
    "        all_images_blurred.append(gaussian_blurred)\n",
    "        start = time.time()\n",
    "        prediction = ui_inference_cacheless(\n",
    "            _model=Models.UNET_MOBILEONE_S3,\n",
    "            _image=gaussian_blurred,\n",
    "            _device=\"cuda\",\n",
    "            use_tta=False,\n",
    "            pixel_size=0.13,\n",
    "            only_segmentation=False,\n",
    "            use_correction=None,\n",
    "        ).valid_copy()\n",
    "        print(f\"Prediction time: {time.time() - start:.2f} seconds for {file.name}\")\n",
    "        \n",
    "        results = [fiber for fiber in prediction]\n",
    "        df = format_results_to_dataframe(\n",
    "            results,\n",
    "            image,\n",
    "            resolution=256,\n",
    "            include_thumbnails=False,\n",
    "            pixel_size=0.13,\n",
    "        )\n",
    "        df[\"Type\"] = '-'.join(file.stem.split(\"-\")[:-1])\n",
    "        df[\"sigma\"] = sigma\n",
    "        all_results_blurred.append(df)\n"
   ]
  },
  {
   "cell_type": "code",
   "execution_count": null,
   "id": "30cec959",
   "metadata": {},
   "outputs": [],
   "source": []
  },
  {
   "cell_type": "code",
   "execution_count": null,
   "id": "56ccc6f8",
   "metadata": {},
   "outputs": [
    {
     "name": "stderr",
     "output_type": "stream",
     "text": [
      "100%|██████████| 75/75 [00:02<00:00, 29.51it/s], ?it/s]\n"
     ]
    },
    {
     "name": "stdout",
     "output_type": "stream",
     "text": [
      "Prediction time: 6.52 seconds for siNT-01.czi\n"
     ]
    },
    {
     "name": "stderr",
     "output_type": "stream",
     "text": [
      "/home/clement/Documents/Projets/DeepFiberQ/dnafiber/deployment.py:153: RuntimeWarning: divide by zero encountered in scalar divide\n",
      "  data[\"ratio\"].append(f\"{green_length / red_length:.3f}\")\n",
      "100%|██████████| 75/75 [00:02<00:00, 29.41it/s]\n"
     ]
    },
    {
     "name": "stdout",
     "output_type": "stream",
     "text": [
      "Prediction time: 6.78 seconds for siNT-01.czi\n"
     ]
    },
    {
     "name": "stderr",
     "output_type": "stream",
     "text": [
      "/home/clement/Documents/Projets/DeepFiberQ/dnafiber/deployment.py:153: RuntimeWarning: divide by zero encountered in scalar divide\n",
      "  data[\"ratio\"].append(f\"{green_length / red_length:.3f}\")\n",
      "100%|██████████| 75/75 [00:02<00:00, 29.29it/s]\n"
     ]
    },
    {
     "name": "stdout",
     "output_type": "stream",
     "text": [
      "Prediction time: 6.71 seconds for siNT-01.czi\n"
     ]
    },
    {
     "name": "stderr",
     "output_type": "stream",
     "text": [
      "/home/clement/Documents/Projets/DeepFiberQ/dnafiber/deployment.py:153: RuntimeWarning: divide by zero encountered in scalar divide\n",
      "  data[\"ratio\"].append(f\"{green_length / red_length:.3f}\")\n",
      "100%|██████████| 75/75 [00:02<00:00, 29.24it/s]\n"
     ]
    },
    {
     "name": "stdout",
     "output_type": "stream",
     "text": [
      "Prediction time: 6.62 seconds for siNT-01.czi\n"
     ]
    },
    {
     "name": "stderr",
     "output_type": "stream",
     "text": [
      "/home/clement/Documents/Projets/DeepFiberQ/dnafiber/deployment.py:153: RuntimeWarning: divide by zero encountered in scalar divide\n",
      "  data[\"ratio\"].append(f\"{green_length / red_length:.3f}\")\n",
      "100%|██████████| 75/75 [00:02<00:00, 29.19it/s]\n"
     ]
    },
    {
     "name": "stdout",
     "output_type": "stream",
     "text": [
      "Prediction time: 6.27 seconds for siNT-01.czi\n"
     ]
    },
    {
     "name": "stderr",
     "output_type": "stream",
     "text": [
      "/home/clement/Documents/Projets/DeepFiberQ/dnafiber/deployment.py:153: RuntimeWarning: divide by zero encountered in scalar divide\n",
      "  data[\"ratio\"].append(f\"{green_length / red_length:.3f}\")\n",
      "100%|██████████| 75/75 [00:02<00:00, 29.22it/s]\n"
     ]
    },
    {
     "name": "stdout",
     "output_type": "stream",
     "text": [
      "Prediction time: 6.02 seconds for siNT-01.czi\n"
     ]
    },
    {
     "name": "stderr",
     "output_type": "stream",
     "text": [
      "/home/clement/Documents/Projets/DeepFiberQ/dnafiber/deployment.py:153: RuntimeWarning: divide by zero encountered in scalar divide\n",
      "  data[\"ratio\"].append(f\"{green_length / red_length:.3f}\")\n",
      "100%|██████████| 75/75 [00:02<00:00, 29.23it/s]\n"
     ]
    },
    {
     "name": "stdout",
     "output_type": "stream",
     "text": [
      "Prediction time: 5.71 seconds for siNT-01.czi\n"
     ]
    },
    {
     "name": "stderr",
     "output_type": "stream",
     "text": [
      "/home/clement/Documents/Projets/DeepFiberQ/dnafiber/deployment.py:153: RuntimeWarning: divide by zero encountered in scalar divide\n",
      "  data[\"ratio\"].append(f\"{green_length / red_length:.3f}\")\n",
      "100%|██████████| 75/75 [00:02<00:00, 29.41it/s]\n",
      "/home/clement/Documents/Projets/DeepFiberQ/dnafiber/deployment.py:153: RuntimeWarning: divide by zero encountered in scalar divide\n",
      "  data[\"ratio\"].append(f\"{green_length / red_length:.3f}\")\n",
      "Processing files:  33%|███▎      | 1/3 [01:53<03:47, 113.62s/it]"
     ]
    },
    {
     "name": "stdout",
     "output_type": "stream",
     "text": [
      "Prediction time: 4.90 seconds for siNT-01.czi\n"
     ]
    },
    {
     "name": "stderr",
     "output_type": "stream",
     "text": [
      "100%|██████████| 125/125 [00:04<00:00, 28.83it/s]\n"
     ]
    },
    {
     "name": "stdout",
     "output_type": "stream",
     "text": [
      "Prediction time: 11.54 seconds for siBRCA2-01.czi\n"
     ]
    },
    {
     "name": "stderr",
     "output_type": "stream",
     "text": [
      "/home/clement/Documents/Projets/DeepFiberQ/dnafiber/deployment.py:153: RuntimeWarning: divide by zero encountered in scalar divide\n",
      "  data[\"ratio\"].append(f\"{green_length / red_length:.3f}\")\n",
      "100%|██████████| 125/125 [00:04<00:00, 29.06it/s]\n"
     ]
    },
    {
     "name": "stdout",
     "output_type": "stream",
     "text": [
      "Prediction time: 11.54 seconds for siBRCA2-01.czi\n"
     ]
    },
    {
     "name": "stderr",
     "output_type": "stream",
     "text": [
      "/home/clement/Documents/Projets/DeepFiberQ/dnafiber/deployment.py:153: RuntimeWarning: divide by zero encountered in scalar divide\n",
      "  data[\"ratio\"].append(f\"{green_length / red_length:.3f}\")\n",
      "100%|██████████| 125/125 [00:04<00:00, 28.82it/s]\n"
     ]
    },
    {
     "name": "stdout",
     "output_type": "stream",
     "text": [
      "Prediction time: 11.38 seconds for siBRCA2-01.czi\n"
     ]
    },
    {
     "name": "stderr",
     "output_type": "stream",
     "text": [
      "/home/clement/Documents/Projets/DeepFiberQ/dnafiber/deployment.py:153: RuntimeWarning: divide by zero encountered in scalar divide\n",
      "  data[\"ratio\"].append(f\"{green_length / red_length:.3f}\")\n",
      "100%|██████████| 125/125 [00:04<00:00, 28.83it/s]\n"
     ]
    },
    {
     "name": "stdout",
     "output_type": "stream",
     "text": [
      "Prediction time: 10.86 seconds for siBRCA2-01.czi\n"
     ]
    },
    {
     "name": "stderr",
     "output_type": "stream",
     "text": [
      "/home/clement/Documents/Projets/DeepFiberQ/dnafiber/deployment.py:153: RuntimeWarning: divide by zero encountered in scalar divide\n",
      "  data[\"ratio\"].append(f\"{green_length / red_length:.3f}\")\n",
      "100%|██████████| 125/125 [00:04<00:00, 29.05it/s]\n"
     ]
    },
    {
     "name": "stdout",
     "output_type": "stream",
     "text": [
      "Prediction time: 10.54 seconds for siBRCA2-01.czi\n"
     ]
    },
    {
     "name": "stderr",
     "output_type": "stream",
     "text": [
      "/home/clement/Documents/Projets/DeepFiberQ/dnafiber/deployment.py:153: RuntimeWarning: divide by zero encountered in scalar divide\n",
      "  data[\"ratio\"].append(f\"{green_length / red_length:.3f}\")\n",
      "100%|██████████| 125/125 [00:04<00:00, 28.76it/s]\n"
     ]
    },
    {
     "name": "stdout",
     "output_type": "stream",
     "text": [
      "Prediction time: 10.08 seconds for siBRCA2-01.czi\n"
     ]
    },
    {
     "name": "stderr",
     "output_type": "stream",
     "text": [
      "/home/clement/Documents/Projets/DeepFiberQ/dnafiber/deployment.py:153: RuntimeWarning: divide by zero encountered in scalar divide\n",
      "  data[\"ratio\"].append(f\"{green_length / red_length:.3f}\")\n",
      "100%|██████████| 125/125 [00:04<00:00, 28.80it/s]\n"
     ]
    },
    {
     "name": "stdout",
     "output_type": "stream",
     "text": [
      "Prediction time: 9.63 seconds for siBRCA2-01.czi\n"
     ]
    },
    {
     "name": "stderr",
     "output_type": "stream",
     "text": [
      "/home/clement/Documents/Projets/DeepFiberQ/dnafiber/deployment.py:153: RuntimeWarning: divide by zero encountered in scalar divide\n",
      "  data[\"ratio\"].append(f\"{green_length / red_length:.3f}\")\n",
      "100%|██████████| 125/125 [00:04<00:00, 28.76it/s]\n",
      "/home/clement/Documents/Projets/DeepFiberQ/dnafiber/deployment.py:153: RuntimeWarning: divide by zero encountered in scalar divide\n",
      "  data[\"ratio\"].append(f\"{green_length / red_length:.3f}\")\n",
      "Processing files:  67%|██████▋   | 2/3 [05:04<02:38, 158.79s/it]"
     ]
    },
    {
     "name": "stdout",
     "output_type": "stream",
     "text": [
      "Prediction time: 9.18 seconds for siBRCA2-01.czi\n"
     ]
    },
    {
     "name": "stderr",
     "output_type": "stream",
     "text": [
      "100%|██████████| 36/36 [00:01<00:00, 29.86it/s]\n"
     ]
    },
    {
     "name": "stdout",
     "output_type": "stream",
     "text": [
      "Prediction time: 3.15 seconds for siBRCA1-01.czi\n"
     ]
    },
    {
     "name": "stderr",
     "output_type": "stream",
     "text": [
      "/home/clement/Documents/Projets/DeepFiberQ/dnafiber/deployment.py:153: RuntimeWarning: divide by zero encountered in scalar divide\n",
      "  data[\"ratio\"].append(f\"{green_length / red_length:.3f}\")\n",
      "100%|██████████| 36/36 [00:01<00:00, 29.74it/s]\n"
     ]
    },
    {
     "name": "stdout",
     "output_type": "stream",
     "text": [
      "Prediction time: 3.24 seconds for siBRCA1-01.czi\n"
     ]
    },
    {
     "name": "stderr",
     "output_type": "stream",
     "text": [
      "/home/clement/Documents/Projets/DeepFiberQ/dnafiber/deployment.py:153: RuntimeWarning: divide by zero encountered in scalar divide\n",
      "  data[\"ratio\"].append(f\"{green_length / red_length:.3f}\")\n",
      "100%|██████████| 36/36 [00:01<00:00, 29.75it/s]\n"
     ]
    },
    {
     "name": "stdout",
     "output_type": "stream",
     "text": [
      "Prediction time: 3.32 seconds for siBRCA1-01.czi\n"
     ]
    },
    {
     "name": "stderr",
     "output_type": "stream",
     "text": [
      "/home/clement/Documents/Projets/DeepFiberQ/dnafiber/deployment.py:153: RuntimeWarning: divide by zero encountered in scalar divide\n",
      "  data[\"ratio\"].append(f\"{green_length / red_length:.3f}\")\n",
      "100%|██████████| 36/36 [00:01<00:00, 29.88it/s]\n"
     ]
    },
    {
     "name": "stdout",
     "output_type": "stream",
     "text": [
      "Prediction time: 3.17 seconds for siBRCA1-01.czi\n"
     ]
    },
    {
     "name": "stderr",
     "output_type": "stream",
     "text": [
      "/home/clement/Documents/Projets/DeepFiberQ/dnafiber/deployment.py:153: RuntimeWarning: divide by zero encountered in scalar divide\n",
      "  data[\"ratio\"].append(f\"{green_length / red_length:.3f}\")\n",
      "100%|██████████| 36/36 [00:01<00:00, 29.77it/s]\n"
     ]
    },
    {
     "name": "stdout",
     "output_type": "stream",
     "text": [
      "Prediction time: 3.19 seconds for siBRCA1-01.czi\n"
     ]
    },
    {
     "name": "stderr",
     "output_type": "stream",
     "text": [
      "/home/clement/Documents/Projets/DeepFiberQ/dnafiber/deployment.py:153: RuntimeWarning: divide by zero encountered in scalar divide\n",
      "  data[\"ratio\"].append(f\"{green_length / red_length:.3f}\")\n",
      "100%|██████████| 36/36 [00:01<00:00, 30.06it/s]\n"
     ]
    },
    {
     "name": "stdout",
     "output_type": "stream",
     "text": [
      "Prediction time: 2.86 seconds for siBRCA1-01.czi\n"
     ]
    },
    {
     "name": "stderr",
     "output_type": "stream",
     "text": [
      "/home/clement/Documents/Projets/DeepFiberQ/dnafiber/deployment.py:153: RuntimeWarning: divide by zero encountered in scalar divide\n",
      "  data[\"ratio\"].append(f\"{green_length / red_length:.3f}\")\n",
      "100%|██████████| 36/36 [00:01<00:00, 29.74it/s]\n"
     ]
    },
    {
     "name": "stdout",
     "output_type": "stream",
     "text": [
      "Prediction time: 2.20 seconds for siBRCA1-01.czi\n"
     ]
    },
    {
     "name": "stderr",
     "output_type": "stream",
     "text": [
      "100%|██████████| 36/36 [00:01<00:00, 29.86it/s]\n",
      "Processing files: 100%|██████████| 3/3 [05:58<00:00, 119.66s/it]"
     ]
    },
    {
     "name": "stdout",
     "output_type": "stream",
     "text": [
      "Prediction time: 2.19 seconds for siBRCA1-01.czi\n"
     ]
    },
    {
     "name": "stderr",
     "output_type": "stream",
     "text": [
      "\n"
     ]
    }
   ],
   "source": [
    "from skimage.util import random_noise\n",
    "\n",
    "all_results_noise = []\n",
    "all_images_noise = []\n",
    "for file in tqdm([sint_file, sibrca1_file], desc=\"Processing files\"):\n",
    "    image = get_image_cacheless(file, False)\n",
    "    for sigma in np.linspace(0, 0.5, 8):\n",
    "        noisy = random_noise(image, mode='gaussian', var=sigma**2, clip=True) * 255\n",
    "        noisy = noisy.astype(np.uint8)\n",
    "        all_images_noise.append(noisy)\n",
    "        start = time.time()\n",
    "        prediction = ui_inference_cacheless(\n",
    "            _model=ENSEMBLE,\n",
    "            _image=noisy,\n",
    "            _device=\"cuda\",\n",
    "            use_tta=False,\n",
    "            only_segmentation=False,\n",
    "            use_correction=None,\n",
    "        )\n",
    "        print(f\"Prediction time: {time.time() - start:.2f} seconds for {file.name}\")\n",
    "        \n",
    "        results = [fiber for fiber in prediction]\n",
    "        df = format_results_to_dataframe(\n",
    "            results,\n",
    "            image,\n",
    "            resolution=256,\n",
    "            include_thumbnails=False,\n",
    "            pixel_size=0.13,\n",
    "        )\n",
    "        df[\"Type\"] = '-'.join(file.stem.split(\"-\")[:-1])\n",
    "        df[\"sigma\"] = sigma\n",
    "        all_results_noise.append(df)\n",
    "\n"
   ]
  },
  {
   "cell_type": "code",
   "execution_count": null,
   "id": "36d67156",
   "metadata": {},
   "outputs": [
    {
     "ename": "ValueError",
     "evalue": "No objects to concatenate",
     "output_type": "error",
     "traceback": [
      "\u001b[31m---------------------------------------------------------------------------\u001b[39m",
      "\u001b[31mValueError\u001b[39m                                Traceback (most recent call last)",
      "\u001b[36mCell\u001b[39m\u001b[36m \u001b[39m\u001b[32mIn[3]\u001b[39m\u001b[32m, line 4\u001b[39m\n\u001b[32m      1\u001b[39m \u001b[38;5;28;01mfrom\u001b[39;00m\u001b[38;5;250m \u001b[39m\u001b[34;01mmatplotlib\u001b[39;00m\u001b[34;01m.\u001b[39;00m\u001b[34;01mpatches\u001b[39;00m\u001b[38;5;250m \u001b[39m\u001b[38;5;28;01mimport\u001b[39;00m PathPatch\n\u001b[32m      2\u001b[39m \u001b[38;5;28;01mfrom\u001b[39;00m\u001b[38;5;250m \u001b[39m\u001b[34;01mmatplotlib\u001b[39;00m\u001b[34;01m.\u001b[39;00m\u001b[34;01mpath\u001b[39;00m\u001b[38;5;250m \u001b[39m\u001b[38;5;28;01mimport\u001b[39;00m Path\n\u001b[32m----> \u001b[39m\u001b[32m4\u001b[39m df_blurred = \u001b[43mpd\u001b[49m\u001b[43m.\u001b[49m\u001b[43mconcat\u001b[49m\u001b[43m(\u001b[49m\u001b[43mall_results_blurred\u001b[49m\u001b[43m,\u001b[49m\u001b[43m \u001b[49m\u001b[43mignore_index\u001b[49m\u001b[43m=\u001b[49m\u001b[38;5;28;43;01mTrue\u001b[39;49;00m\u001b[43m)\u001b[49m\n\u001b[32m      5\u001b[39m df_blurred[\u001b[33m\"\u001b[39m\u001b[33msigma\u001b[39m\u001b[33m\"\u001b[39m] = df_blurred[\u001b[33m\"\u001b[39m\u001b[33msigma\u001b[39m\u001b[33m\"\u001b[39m].astype(\u001b[38;5;28mstr\u001b[39m)\n\u001b[32m      6\u001b[39m df_blurred[\u001b[33m\"\u001b[39m\u001b[33mRatio\u001b[39m\u001b[33m\"\u001b[39m] = df_blurred[\u001b[33m\"\u001b[39m\u001b[33mRatio\u001b[39m\u001b[33m\"\u001b[39m].astype(\u001b[38;5;28mfloat\u001b[39m)\n",
      "\u001b[36mFile \u001b[39m\u001b[32m~/miniconda3/envs/dnafiber/lib/python3.12/site-packages/pandas/core/reshape/concat.py:382\u001b[39m, in \u001b[36mconcat\u001b[39m\u001b[34m(objs, axis, join, ignore_index, keys, levels, names, verify_integrity, sort, copy)\u001b[39m\n\u001b[32m    379\u001b[39m \u001b[38;5;28;01melif\u001b[39;00m copy \u001b[38;5;129;01mand\u001b[39;00m using_copy_on_write():\n\u001b[32m    380\u001b[39m     copy = \u001b[38;5;28;01mFalse\u001b[39;00m\n\u001b[32m--> \u001b[39m\u001b[32m382\u001b[39m op = \u001b[43m_Concatenator\u001b[49m\u001b[43m(\u001b[49m\n\u001b[32m    383\u001b[39m \u001b[43m    \u001b[49m\u001b[43mobjs\u001b[49m\u001b[43m,\u001b[49m\n\u001b[32m    384\u001b[39m \u001b[43m    \u001b[49m\u001b[43maxis\u001b[49m\u001b[43m=\u001b[49m\u001b[43maxis\u001b[49m\u001b[43m,\u001b[49m\n\u001b[32m    385\u001b[39m \u001b[43m    \u001b[49m\u001b[43mignore_index\u001b[49m\u001b[43m=\u001b[49m\u001b[43mignore_index\u001b[49m\u001b[43m,\u001b[49m\n\u001b[32m    386\u001b[39m \u001b[43m    \u001b[49m\u001b[43mjoin\u001b[49m\u001b[43m=\u001b[49m\u001b[43mjoin\u001b[49m\u001b[43m,\u001b[49m\n\u001b[32m    387\u001b[39m \u001b[43m    \u001b[49m\u001b[43mkeys\u001b[49m\u001b[43m=\u001b[49m\u001b[43mkeys\u001b[49m\u001b[43m,\u001b[49m\n\u001b[32m    388\u001b[39m \u001b[43m    \u001b[49m\u001b[43mlevels\u001b[49m\u001b[43m=\u001b[49m\u001b[43mlevels\u001b[49m\u001b[43m,\u001b[49m\n\u001b[32m    389\u001b[39m \u001b[43m    \u001b[49m\u001b[43mnames\u001b[49m\u001b[43m=\u001b[49m\u001b[43mnames\u001b[49m\u001b[43m,\u001b[49m\n\u001b[32m    390\u001b[39m \u001b[43m    \u001b[49m\u001b[43mverify_integrity\u001b[49m\u001b[43m=\u001b[49m\u001b[43mverify_integrity\u001b[49m\u001b[43m,\u001b[49m\n\u001b[32m    391\u001b[39m \u001b[43m    \u001b[49m\u001b[43mcopy\u001b[49m\u001b[43m=\u001b[49m\u001b[43mcopy\u001b[49m\u001b[43m,\u001b[49m\n\u001b[32m    392\u001b[39m \u001b[43m    \u001b[49m\u001b[43msort\u001b[49m\u001b[43m=\u001b[49m\u001b[43msort\u001b[49m\u001b[43m,\u001b[49m\n\u001b[32m    393\u001b[39m \u001b[43m\u001b[49m\u001b[43m)\u001b[49m\n\u001b[32m    395\u001b[39m \u001b[38;5;28;01mreturn\u001b[39;00m op.get_result()\n",
      "\u001b[36mFile \u001b[39m\u001b[32m~/miniconda3/envs/dnafiber/lib/python3.12/site-packages/pandas/core/reshape/concat.py:445\u001b[39m, in \u001b[36m_Concatenator.__init__\u001b[39m\u001b[34m(self, objs, axis, join, keys, levels, names, ignore_index, verify_integrity, copy, sort)\u001b[39m\n\u001b[32m    442\u001b[39m \u001b[38;5;28mself\u001b[39m.verify_integrity = verify_integrity\n\u001b[32m    443\u001b[39m \u001b[38;5;28mself\u001b[39m.copy = copy\n\u001b[32m--> \u001b[39m\u001b[32m445\u001b[39m objs, keys = \u001b[38;5;28;43mself\u001b[39;49m\u001b[43m.\u001b[49m\u001b[43m_clean_keys_and_objs\u001b[49m\u001b[43m(\u001b[49m\u001b[43mobjs\u001b[49m\u001b[43m,\u001b[49m\u001b[43m \u001b[49m\u001b[43mkeys\u001b[49m\u001b[43m)\u001b[49m\n\u001b[32m    447\u001b[39m \u001b[38;5;66;03m# figure out what our result ndim is going to be\u001b[39;00m\n\u001b[32m    448\u001b[39m ndims = \u001b[38;5;28mself\u001b[39m._get_ndims(objs)\n",
      "\u001b[36mFile \u001b[39m\u001b[32m~/miniconda3/envs/dnafiber/lib/python3.12/site-packages/pandas/core/reshape/concat.py:507\u001b[39m, in \u001b[36m_Concatenator._clean_keys_and_objs\u001b[39m\u001b[34m(self, objs, keys)\u001b[39m\n\u001b[32m    504\u001b[39m     objs_list = \u001b[38;5;28mlist\u001b[39m(objs)\n\u001b[32m    506\u001b[39m \u001b[38;5;28;01mif\u001b[39;00m \u001b[38;5;28mlen\u001b[39m(objs_list) == \u001b[32m0\u001b[39m:\n\u001b[32m--> \u001b[39m\u001b[32m507\u001b[39m     \u001b[38;5;28;01mraise\u001b[39;00m \u001b[38;5;167;01mValueError\u001b[39;00m(\u001b[33m\"\u001b[39m\u001b[33mNo objects to concatenate\u001b[39m\u001b[33m\"\u001b[39m)\n\u001b[32m    509\u001b[39m \u001b[38;5;28;01mif\u001b[39;00m keys \u001b[38;5;129;01mis\u001b[39;00m \u001b[38;5;28;01mNone\u001b[39;00m:\n\u001b[32m    510\u001b[39m     objs_list = \u001b[38;5;28mlist\u001b[39m(com.not_none(*objs_list))\n",
      "\u001b[31mValueError\u001b[39m: No objects to concatenate"
     ]
    }
   ],
   "source": [
    "from matplotlib.patches import PathPatch\n",
    "from matplotlib.path import Path\n",
    "\n",
    "df_blurred = pd.concat(all_results_blurred, ignore_index=True)\n",
    "df_blurred[\"sigma\"] = df_blurred[\"sigma\"].astype(str)\n",
    "df_blurred[\"Ratio\"] = df_blurred[\"Ratio\"].astype(float)\n",
    "df_blurred = df_blurred[df_blurred[\"Ratio\"] <10]\n",
    "df_blurred = df_blurred[df_blurred[\"Ratio\"] > 0.125]\n",
    "df_noise = pd.concat(all_results_noise, ignore_index=True)\n",
    "df_noise[\"sigma\"] = df_noise[\"sigma\"]\n",
    "df_noise[\"Ratio\"] = df_noise[\"Ratio\"].astype(float)\n",
    "df_noise = df_noise[df_noise[\"Ratio\"] <10]\n",
    "df_noise = df_noise[df_noise[\"Ratio\"] > 0.125]\n",
    "\n",
    "median_baseline = df_blurred[df_blurred[\"sigma\"] == \"0\"].groupby(\"Type\")[\"Ratio\"].median().reset_index()\n",
    "median_value = median_baseline[median_baseline[\"Type\"] == \"siNT\"][\"Ratio\"]\n",
    "# df_blurred[\"Ratio\"] = df_blurred[\"Ratio\"] / median_value.values[0]\n",
    "\n",
    "median_baseline = df_noise[df_noise[\"sigma\"] == 0].groupby(\"Type\")[\"Ratio\"].median().reset_index()\n",
    "median_value = median_baseline[median_baseline[\"Type\"] == \"siNT\"][\"Ratio\"]\n",
    "# df_noise[\"Ratio\"] = df_noise[\"Ratio\"] / median_value.values[0]\n",
    "\n",
    "# Order the dataframe by order: [\"siNT\",\"siBRCA1\", \"siBRCA2\"]\n",
    "order = [\"siNT\", \"siBRCA1\"]\n",
    "df_blurred[\"Type\"] = pd.Categorical(df_blurred[\"Type\"], categories=order, ordered=True)\n",
    "df_noise[\"Type\"] = pd.Categorical(df_noise[\"Type\"], categories=order, ordered=True)\n",
    "\n",
    "sns.set_theme(style=\"whitegrid\")\n",
    "\n",
    "fig, axes = plt.subplots(2, 2, figsize=(20, 8), sharey=False)\n",
    "\n",
    "palette = [\"#e78284\", \"#81c8be\", \"#8caaee\"]\n",
    "for i, (ax, df, title) in enumerate(zip(axes[1, :], [df_blurred, df_noise], [\"Gaussian Blurring\", \"Gaussian Noise\"])):\n",
    "    sns.boxenplot(\n",
    "        x=\"sigma\",\n",
    "        y=\"Ratio\",\n",
    "        hue=\"Type\",\n",
    "        data=df,\n",
    "        ax=ax,\n",
    "        palette=palette,\n",
    "    )\n",
    "    if i == 0:\n",
    "        ax.set_ylabel(r\"Normalized Ratio (by siNT median at $\\sigma$=0)\")\n",
    "    else:\n",
    "        ax.set_ylabel(\"\")\n",
    "    ax.set_xlabel(r\"Standard Deviation ($\\sigma$)\")\n",
    "    ax.set_yscale(\"log\")\n",
    "    ax.set_yticks([0.125, 0.25, 0.5, 1, 2, 4, 8], \n",
    "                  [0.125, 0.25, 0.5, 1, 2, 4, 8])\n",
    "    ax.set_ylim(0.125, 32)\n",
    "    ax.minorticks_off()\n",
    "    ax.legend(title=\"Type\", loc=\"upper right\", ncol=3)\n",
    "    if title == \"Gaussian Noise\":\n",
    "        ax.set_xticklabels([f\"{sigma:.2f}\" for sigma in df[\"sigma\"].unique()])\n",
    "\n",
    "    # Add text to indicate the number of fibers per sigma and type\n",
    "    for i, sigma in enumerate(df[\"sigma\"].unique()):\n",
    "        for j, fiber_type in enumerate(df[\"Type\"].unique()):\n",
    "            count = df[(df[\"sigma\"] == sigma) & (df[\"Type\"] == fiber_type)].shape[0]\n",
    "            ax.text(i+j/3.5 - 1/3, 7, f\"N=\\n{count}\", ha='center', va='bottom', fontsize=8, color='black')\n",
    "\n",
    "start = 4096\n",
    "length = 512\n",
    "subset_indices_y = slice(start, start + length)\n",
    "subset_indices_x = slice(start, start + length)\n",
    "for i, (ax, df, title) in enumerate(zip(axes[0, :], [df_blurred, df_noise], [\"Gaussian Blurring\", \"Gaussian Additive Noise\"])):\n",
    "    sigmas = df[\"sigma\"].unique()\n",
    "    current_list = all_images_blurred if i == 0 else all_images_noise\n",
    "\n",
    "    ax.set_ylim(0, 1)\n",
    "    ax.set_xlim(0, len(sigmas))\n",
    "    ax.set_yscale(\"linear\")\n",
    "    ax.set_xticks([])\n",
    "    ax.set_yticks([])\n",
    "    ax.set_title(title)\n",
    "\n",
    "    for j, s in enumerate(sigmas):\n",
    "        img1 = current_list[j][subset_indices_y, subset_indices_x]\n",
    "        ax.imshow(img1, extent=[j, j+1, 0, 1])\n",
    "        ax.axvline(j , color='white', linestyle='--', linewidth=1)\n",
    "        \n",
    "        \n",
    "# Reduce the margin between the subplots\n",
    "plt.subplots_adjust(hspace=0., wspace=0.2)\n",
    "plt.tight_layout()\n",
    "plt.show()\n"
   ]
  }
 ],
 "metadata": {
  "kernelspec": {
   "display_name": "dnafiber",
   "language": "python",
   "name": "python3"
  },
  "language_info": {
   "codemirror_mode": {
    "name": "ipython",
    "version": 3
   },
   "file_extension": ".py",
   "mimetype": "text/x-python",
   "name": "python",
   "nbconvert_exporter": "python",
   "pygments_lexer": "ipython3",
   "version": "3.12.11"
  }
 },
 "nbformat": 4,
 "nbformat_minor": 5
}
