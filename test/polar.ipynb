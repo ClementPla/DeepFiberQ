{
 "cells": [
  {
   "cell_type": "code",
   "execution_count": 1,
   "id": "c4fadddf",
   "metadata": {},
   "outputs": [
    {
     "name": "stderr",
     "output_type": "stream",
     "text": [
      "/home/clement/miniforge-pypy3/envs/dl/lib/python3.11/site-packages/kornia/feature/lightglue.py:44: FutureWarning: `torch.cuda.amp.custom_fwd(args...)` is deprecated. Please use `torch.amp.custom_fwd(args..., device_type='cuda')` instead.\n",
      "  @torch.cuda.amp.custom_fwd(cast_inputs=torch.float32)\n",
      "/home/clement/miniforge-pypy3/envs/dl/lib/python3.11/site-packages/albumentations/__init__.py:28: UserWarning: A new version of Albumentations is available: '2.0.8' (you have '2.0.3'). Upgrade using: pip install -U albumentations. To disable automatic update checks, set the environment variable NO_ALBUMENTATIONS_UPDATE to 1.\n",
      "  check_for_updates()\n"
     ]
    }
   ],
   "source": [
    "%load_ext autoreload\n",
    "%autoreload 2\n",
    "from dnafiber.data.dataset import FiberDatamodule\n",
    "from nntools.utils import Config\n",
    "import pandas as pd"
   ]
  },
  {
   "cell_type": "code",
   "execution_count": 2,
   "id": "2c9ea29d",
   "metadata": {},
   "outputs": [],
   "source": [
    "c = Config(\"../configs/config.yaml\")\n",
    "c[\"data\"][\"sato_filter\"] = False\n",
    "c[\"data\"][\"crop_size\"] = None\n",
    "datamodule = FiberDatamodule(**c[\"data\"], polar_space=False)\n",
    "datamodule.setup()\n",
    "\n"
   ]
  },
  {
   "cell_type": "code",
   "execution_count": 5,
   "id": "1efc0a2a",
   "metadata": {},
   "outputs": [
    {
     "data": {
      "text/plain": [
       "<torch.utils.data.dataloader.DataLoader at 0x7330e12f2b10>"
      ]
     },
     "execution_count": 5,
     "metadata": {},
     "output_type": "execute_result"
    }
   ],
   "source": [
    "dataloader = datamodule.test_dataloader()\n",
    "dataloader"
   ]
  },
  {
   "cell_type": "code",
   "execution_count": 4,
   "id": "ed971bd2",
   "metadata": {},
   "outputs": [
    {
     "data": {
      "application/vnd.jupyter.widget-view+json": {
       "model_id": "d1af72379fce4f55938b2dd9f1b0d62a",
       "version_major": 2,
       "version_minor": 0
      },
      "text/plain": [
       "  0%|          | 0/5 [00:00<?, ?it/s]"
      ]
     },
     "metadata": {},
     "output_type": "display_data"
    },
    {
     "name": "stdout",
     "output_type": "stream",
     "text": [
      "tensor(2, device='cuda:0', dtype=torch.uint8) tensor(0, device='cuda:0', dtype=torch.uint8)\n",
      "tensor(2, device='cuda:0', dtype=torch.uint8) tensor(0, device='cuda:0', dtype=torch.uint8)\n",
      "tensor(2, device='cuda:0', dtype=torch.uint8) tensor(0, device='cuda:0', dtype=torch.uint8)\n",
      "tensor(2, device='cuda:0', dtype=torch.uint8) tensor(0, device='cuda:0', dtype=torch.uint8)\n",
      "tensor(2, device='cuda:0', dtype=torch.uint8) tensor(0, device='cuda:0', dtype=torch.uint8)\n"
     ]
    },
    {
     "data": {
      "application/vnd.jupyter.widget-view+json": {
       "model_id": "1cd112827f454fb6a13e3c8e7c4246b4",
       "version_major": 2,
       "version_minor": 0
      },
      "text/plain": [
       "  0%|          | 0/5 [00:00<?, ?it/s]"
      ]
     },
     "metadata": {},
     "output_type": "display_data"
    },
    {
     "name": "stdout",
     "output_type": "stream",
     "text": [
      "tensor(2, device='cuda:0', dtype=torch.uint8) tensor(0, device='cuda:0', dtype=torch.uint8)\n",
      "tensor(9, device='cuda:0', dtype=torch.uint8) tensor(0, device='cuda:0', dtype=torch.uint8)\n"
     ]
    },
    {
     "name": "stderr",
     "output_type": "stream",
     "text": [
      "Exception ignored in: <function _ConnectionBase.__del__ at 0x7331af18ca40>\n",
      "Traceback (most recent call last):\n",
      "  File \"/home/clement/miniforge-pypy3/envs/dl/lib/python3.11/multiprocessing/connection.py\", line 133, in __del__\n",
      "    self._close()\n",
      "  File \"/home/clement/miniforge-pypy3/envs/dl/lib/python3.11/multiprocessing/connection.py\", line 377, in _close\n",
      "    _close(self._handle)\n",
      "OSError: [Errno 9] Bad file descriptor\n"
     ]
    },
    {
     "ename": "ValueError",
     "evalue": "The highest label in `target` should be smaller than the size of the `C` dimension of `preds`.",
     "output_type": "error",
     "traceback": [
      "\u001b[0;31m---------------------------------------------------------------------------\u001b[0m",
      "\u001b[0;31mValueError\u001b[0m                                Traceback (most recent call last)",
      "Cell \u001b[0;32mIn[4], line 23\u001b[0m\n\u001b[1;32m     19\u001b[0m         pred \u001b[38;5;241m=\u001b[39m model(images)\n\u001b[1;32m     20\u001b[0m         proba \u001b[38;5;241m=\u001b[39m torch\u001b[38;5;241m.\u001b[39msoftmax(pred, dim\u001b[38;5;241m=\u001b[39m\u001b[38;5;241m1\u001b[39m)\n\u001b[0;32m---> 23\u001b[0m     \u001b[43mmetric\u001b[49m\u001b[38;5;241;43m.\u001b[39;49m\u001b[43mupdate\u001b[49m\u001b[43m(\u001b[49m\u001b[43mproba\u001b[49m\u001b[43m,\u001b[49m\u001b[43m \u001b[49m\u001b[43mgt\u001b[49m\u001b[43m)\u001b[49m\n\u001b[1;32m     24\u001b[0m scores \u001b[38;5;241m=\u001b[39m metric\u001b[38;5;241m.\u001b[39mcompute()\n\u001b[1;32m     25\u001b[0m scores[\u001b[38;5;124m\"\u001b[39m\u001b[38;5;124mmodel\u001b[39m\u001b[38;5;124m\"\u001b[39m] \u001b[38;5;241m=\u001b[39m key\n",
      "File \u001b[0;32m~/miniforge-pypy3/envs/dl/lib/python3.11/site-packages/torchmetrics/collections.py:249\u001b[0m, in \u001b[0;36mMetricCollection.update\u001b[0;34m(self, *args, **kwargs)\u001b[0m\n\u001b[1;32m    246\u001b[0m \u001b[38;5;28;01mfor\u001b[39;00m cg \u001b[38;5;129;01min\u001b[39;00m \u001b[38;5;28mself\u001b[39m\u001b[38;5;241m.\u001b[39m_groups\u001b[38;5;241m.\u001b[39mvalues():\n\u001b[1;32m    247\u001b[0m     \u001b[38;5;66;03m# only update the first member\u001b[39;00m\n\u001b[1;32m    248\u001b[0m     m0 \u001b[38;5;241m=\u001b[39m \u001b[38;5;28mgetattr\u001b[39m(\u001b[38;5;28mself\u001b[39m, cg[\u001b[38;5;241m0\u001b[39m])\n\u001b[0;32m--> 249\u001b[0m     \u001b[43mm0\u001b[49m\u001b[38;5;241;43m.\u001b[39;49m\u001b[43mupdate\u001b[49m\u001b[43m(\u001b[49m\u001b[38;5;241;43m*\u001b[39;49m\u001b[43margs\u001b[49m\u001b[43m,\u001b[49m\u001b[43m \u001b[49m\u001b[38;5;241;43m*\u001b[39;49m\u001b[38;5;241;43m*\u001b[39;49m\u001b[43mm0\u001b[49m\u001b[38;5;241;43m.\u001b[39;49m\u001b[43m_filter_kwargs\u001b[49m\u001b[43m(\u001b[49m\u001b[38;5;241;43m*\u001b[39;49m\u001b[38;5;241;43m*\u001b[39;49m\u001b[43mkwargs\u001b[49m\u001b[43m)\u001b[49m\u001b[43m)\u001b[49m\n\u001b[1;32m    250\u001b[0m \u001b[38;5;28mself\u001b[39m\u001b[38;5;241m.\u001b[39m_state_is_copy \u001b[38;5;241m=\u001b[39m \u001b[38;5;28;01mFalse\u001b[39;00m\n\u001b[1;32m    251\u001b[0m \u001b[38;5;28mself\u001b[39m\u001b[38;5;241m.\u001b[39m_compute_groups_create_state_ref()\n",
      "File \u001b[0;32m~/miniforge-pypy3/envs/dl/lib/python3.11/site-packages/torchmetrics/metric.py:549\u001b[0m, in \u001b[0;36mMetric._wrap_update.<locals>.wrapped_func\u001b[0;34m(*args, **kwargs)\u001b[0m\n\u001b[1;32m    547\u001b[0m \u001b[38;5;28;01mwith\u001b[39;00m torch\u001b[38;5;241m.\u001b[39mset_grad_enabled(\u001b[38;5;28mself\u001b[39m\u001b[38;5;241m.\u001b[39m_enable_grad):\n\u001b[1;32m    548\u001b[0m     \u001b[38;5;28;01mtry\u001b[39;00m:\n\u001b[0;32m--> 549\u001b[0m         \u001b[43mupdate\u001b[49m\u001b[43m(\u001b[49m\u001b[38;5;241;43m*\u001b[39;49m\u001b[43margs\u001b[49m\u001b[43m,\u001b[49m\u001b[43m \u001b[49m\u001b[38;5;241;43m*\u001b[39;49m\u001b[38;5;241;43m*\u001b[39;49m\u001b[43mkwargs\u001b[49m\u001b[43m)\u001b[49m\n\u001b[1;32m    550\u001b[0m     \u001b[38;5;28;01mexcept\u001b[39;00m \u001b[38;5;167;01mRuntimeError\u001b[39;00m \u001b[38;5;28;01mas\u001b[39;00m err:\n\u001b[1;32m    551\u001b[0m         \u001b[38;5;28;01mif\u001b[39;00m \u001b[38;5;124m\"\u001b[39m\u001b[38;5;124mExpected all tensors to be on\u001b[39m\u001b[38;5;124m\"\u001b[39m \u001b[38;5;129;01min\u001b[39;00m \u001b[38;5;28mstr\u001b[39m(err):\n",
      "File \u001b[0;32m~/miniforge-pypy3/envs/dl/lib/python3.11/site-packages/torchmetrics/classification/dice.py:226\u001b[0m, in \u001b[0;36mDice.update\u001b[0;34m(self, preds, target)\u001b[0m\n\u001b[1;32m    223\u001b[0m \u001b[38;5;129m@no_type_check\u001b[39m\n\u001b[1;32m    224\u001b[0m \u001b[38;5;28;01mdef\u001b[39;00m \u001b[38;5;21mupdate\u001b[39m(\u001b[38;5;28mself\u001b[39m, preds: Tensor, target: Tensor) \u001b[38;5;241m-\u001b[39m\u001b[38;5;241m>\u001b[39m \u001b[38;5;28;01mNone\u001b[39;00m:\n\u001b[1;32m    225\u001b[0m \u001b[38;5;250m    \u001b[39m\u001b[38;5;124;03m\"\"\"Update state with predictions and targets.\"\"\"\u001b[39;00m\n\u001b[0;32m--> 226\u001b[0m     tp, fp, tn, fn \u001b[38;5;241m=\u001b[39m \u001b[43m_stat_scores_update\u001b[49m\u001b[43m(\u001b[49m\n\u001b[1;32m    227\u001b[0m \u001b[43m        \u001b[49m\u001b[43mpreds\u001b[49m\u001b[43m,\u001b[49m\n\u001b[1;32m    228\u001b[0m \u001b[43m        \u001b[49m\u001b[43mtarget\u001b[49m\u001b[43m,\u001b[49m\n\u001b[1;32m    229\u001b[0m \u001b[43m        \u001b[49m\u001b[43mreduce\u001b[49m\u001b[38;5;241;43m=\u001b[39;49m\u001b[38;5;28;43mself\u001b[39;49m\u001b[38;5;241;43m.\u001b[39;49m\u001b[43mreduce\u001b[49m\u001b[43m,\u001b[49m\n\u001b[1;32m    230\u001b[0m \u001b[43m        \u001b[49m\u001b[43mmdmc_reduce\u001b[49m\u001b[38;5;241;43m=\u001b[39;49m\u001b[38;5;28;43mself\u001b[39;49m\u001b[38;5;241;43m.\u001b[39;49m\u001b[43mmdmc_reduce\u001b[49m\u001b[43m,\u001b[49m\n\u001b[1;32m    231\u001b[0m \u001b[43m        \u001b[49m\u001b[43mthreshold\u001b[49m\u001b[38;5;241;43m=\u001b[39;49m\u001b[38;5;28;43mself\u001b[39;49m\u001b[38;5;241;43m.\u001b[39;49m\u001b[43mthreshold\u001b[49m\u001b[43m,\u001b[49m\n\u001b[1;32m    232\u001b[0m \u001b[43m        \u001b[49m\u001b[43mnum_classes\u001b[49m\u001b[38;5;241;43m=\u001b[39;49m\u001b[38;5;28;43mself\u001b[39;49m\u001b[38;5;241;43m.\u001b[39;49m\u001b[43mnum_classes\u001b[49m\u001b[43m,\u001b[49m\n\u001b[1;32m    233\u001b[0m \u001b[43m        \u001b[49m\u001b[43mtop_k\u001b[49m\u001b[38;5;241;43m=\u001b[39;49m\u001b[38;5;28;43mself\u001b[39;49m\u001b[38;5;241;43m.\u001b[39;49m\u001b[43mtop_k\u001b[49m\u001b[43m,\u001b[49m\n\u001b[1;32m    234\u001b[0m \u001b[43m        \u001b[49m\u001b[43mmulticlass\u001b[49m\u001b[38;5;241;43m=\u001b[39;49m\u001b[38;5;28;43mself\u001b[39;49m\u001b[38;5;241;43m.\u001b[39;49m\u001b[43mmulticlass\u001b[49m\u001b[43m,\u001b[49m\n\u001b[1;32m    235\u001b[0m \u001b[43m        \u001b[49m\u001b[43mignore_index\u001b[49m\u001b[38;5;241;43m=\u001b[39;49m\u001b[38;5;28;43mself\u001b[39;49m\u001b[38;5;241;43m.\u001b[39;49m\u001b[43mignore_index\u001b[49m\u001b[43m,\u001b[49m\n\u001b[1;32m    236\u001b[0m \u001b[43m    \u001b[49m\u001b[43m)\u001b[49m\n\u001b[1;32m    238\u001b[0m     \u001b[38;5;66;03m# Update states\u001b[39;00m\n\u001b[1;32m    239\u001b[0m     \u001b[38;5;28;01mif\u001b[39;00m \u001b[38;5;28mself\u001b[39m\u001b[38;5;241m.\u001b[39mreduce \u001b[38;5;241m!=\u001b[39m AverageMethod\u001b[38;5;241m.\u001b[39mSAMPLES \u001b[38;5;129;01mand\u001b[39;00m \u001b[38;5;28mself\u001b[39m\u001b[38;5;241m.\u001b[39mmdmc_reduce \u001b[38;5;241m!=\u001b[39m MDMCAverageMethod\u001b[38;5;241m.\u001b[39mSAMPLEWISE:\n",
      "File \u001b[0;32m~/miniforge-pypy3/envs/dl/lib/python3.11/site-packages/torchmetrics/functional/classification/stat_scores.py:989\u001b[0m, in \u001b[0;36m_stat_scores_update\u001b[0;34m(preds, target, reduce, mdmc_reduce, num_classes, top_k, threshold, multiclass, ignore_index, mode)\u001b[0m\n\u001b[1;32m    986\u001b[0m     preds, target \u001b[38;5;241m=\u001b[39m _drop_negative_ignored_indices(preds, target, ignore_index, mode)\n\u001b[1;32m    987\u001b[0m     _negative_index_dropped \u001b[38;5;241m=\u001b[39m \u001b[38;5;28;01mTrue\u001b[39;00m\n\u001b[0;32m--> 989\u001b[0m preds, target, _ \u001b[38;5;241m=\u001b[39m \u001b[43m_input_format_classification\u001b[49m\u001b[43m(\u001b[49m\n\u001b[1;32m    990\u001b[0m \u001b[43m    \u001b[49m\u001b[43mpreds\u001b[49m\u001b[43m,\u001b[49m\n\u001b[1;32m    991\u001b[0m \u001b[43m    \u001b[49m\u001b[43mtarget\u001b[49m\u001b[43m,\u001b[49m\n\u001b[1;32m    992\u001b[0m \u001b[43m    \u001b[49m\u001b[43mthreshold\u001b[49m\u001b[38;5;241;43m=\u001b[39;49m\u001b[43mthreshold\u001b[49m\u001b[43m,\u001b[49m\n\u001b[1;32m    993\u001b[0m \u001b[43m    \u001b[49m\u001b[43mnum_classes\u001b[49m\u001b[38;5;241;43m=\u001b[39;49m\u001b[43mnum_classes\u001b[49m\u001b[43m,\u001b[49m\n\u001b[1;32m    994\u001b[0m \u001b[43m    \u001b[49m\u001b[43mmulticlass\u001b[49m\u001b[38;5;241;43m=\u001b[39;49m\u001b[43mmulticlass\u001b[49m\u001b[43m,\u001b[49m\n\u001b[1;32m    995\u001b[0m \u001b[43m    \u001b[49m\u001b[43mtop_k\u001b[49m\u001b[38;5;241;43m=\u001b[39;49m\u001b[43mtop_k\u001b[49m\u001b[43m,\u001b[49m\n\u001b[1;32m    996\u001b[0m \u001b[43m    \u001b[49m\u001b[43mignore_index\u001b[49m\u001b[38;5;241;43m=\u001b[39;49m\u001b[43mignore_index\u001b[49m\u001b[43m,\u001b[49m\n\u001b[1;32m    997\u001b[0m \u001b[43m\u001b[49m\u001b[43m)\u001b[49m\n\u001b[1;32m    999\u001b[0m \u001b[38;5;28;01mif\u001b[39;00m ignore_index \u001b[38;5;129;01mis\u001b[39;00m \u001b[38;5;129;01mnot\u001b[39;00m \u001b[38;5;28;01mNone\u001b[39;00m \u001b[38;5;129;01mand\u001b[39;00m ignore_index \u001b[38;5;241m>\u001b[39m\u001b[38;5;241m=\u001b[39m preds\u001b[38;5;241m.\u001b[39mshape[\u001b[38;5;241m1\u001b[39m]:\n\u001b[1;32m   1000\u001b[0m     \u001b[38;5;28;01mraise\u001b[39;00m \u001b[38;5;167;01mValueError\u001b[39;00m(\u001b[38;5;124mf\u001b[39m\u001b[38;5;124m\"\u001b[39m\u001b[38;5;124mThe `ignore_index` \u001b[39m\u001b[38;5;132;01m{\u001b[39;00mignore_index\u001b[38;5;132;01m}\u001b[39;00m\u001b[38;5;124m is not valid for inputs with \u001b[39m\u001b[38;5;132;01m{\u001b[39;00mpreds\u001b[38;5;241m.\u001b[39mshape[\u001b[38;5;241m1\u001b[39m]\u001b[38;5;132;01m}\u001b[39;00m\u001b[38;5;124m classes\u001b[39m\u001b[38;5;124m\"\u001b[39m)\n",
      "File \u001b[0;32m~/miniforge-pypy3/envs/dl/lib/python3.11/site-packages/torchmetrics/utilities/checks.py:413\u001b[0m, in \u001b[0;36m_input_format_classification\u001b[0;34m(preds, target, threshold, top_k, num_classes, multiclass, ignore_index)\u001b[0m\n\u001b[1;32m    410\u001b[0m \u001b[38;5;28;01mif\u001b[39;00m preds\u001b[38;5;241m.\u001b[39mdtype \u001b[38;5;241m==\u001b[39m torch\u001b[38;5;241m.\u001b[39mfloat16:\n\u001b[1;32m    411\u001b[0m     preds \u001b[38;5;241m=\u001b[39m preds\u001b[38;5;241m.\u001b[39mfloat()\n\u001b[0;32m--> 413\u001b[0m case \u001b[38;5;241m=\u001b[39m \u001b[43m_check_classification_inputs\u001b[49m\u001b[43m(\u001b[49m\n\u001b[1;32m    414\u001b[0m \u001b[43m    \u001b[49m\u001b[43mpreds\u001b[49m\u001b[43m,\u001b[49m\n\u001b[1;32m    415\u001b[0m \u001b[43m    \u001b[49m\u001b[43mtarget\u001b[49m\u001b[43m,\u001b[49m\n\u001b[1;32m    416\u001b[0m \u001b[43m    \u001b[49m\u001b[43mthreshold\u001b[49m\u001b[38;5;241;43m=\u001b[39;49m\u001b[43mthreshold\u001b[49m\u001b[43m,\u001b[49m\n\u001b[1;32m    417\u001b[0m \u001b[43m    \u001b[49m\u001b[43mnum_classes\u001b[49m\u001b[38;5;241;43m=\u001b[39;49m\u001b[43mnum_classes\u001b[49m\u001b[43m,\u001b[49m\n\u001b[1;32m    418\u001b[0m \u001b[43m    \u001b[49m\u001b[43mmulticlass\u001b[49m\u001b[38;5;241;43m=\u001b[39;49m\u001b[43mmulticlass\u001b[49m\u001b[43m,\u001b[49m\n\u001b[1;32m    419\u001b[0m \u001b[43m    \u001b[49m\u001b[43mtop_k\u001b[49m\u001b[38;5;241;43m=\u001b[39;49m\u001b[43mtop_k\u001b[49m\u001b[43m,\u001b[49m\n\u001b[1;32m    420\u001b[0m \u001b[43m    \u001b[49m\u001b[43mignore_index\u001b[49m\u001b[38;5;241;43m=\u001b[39;49m\u001b[43mignore_index\u001b[49m\u001b[43m,\u001b[49m\n\u001b[1;32m    421\u001b[0m \u001b[43m\u001b[49m\u001b[43m)\u001b[49m\n\u001b[1;32m    423\u001b[0m \u001b[38;5;28;01mif\u001b[39;00m case \u001b[38;5;129;01min\u001b[39;00m (DataType\u001b[38;5;241m.\u001b[39mBINARY, DataType\u001b[38;5;241m.\u001b[39mMULTILABEL) \u001b[38;5;129;01mand\u001b[39;00m \u001b[38;5;129;01mnot\u001b[39;00m top_k:\n\u001b[1;32m    424\u001b[0m     preds \u001b[38;5;241m=\u001b[39m (preds \u001b[38;5;241m>\u001b[39m\u001b[38;5;241m=\u001b[39m threshold)\u001b[38;5;241m.\u001b[39mint()\n",
      "File \u001b[0;32m~/miniforge-pypy3/envs/dl/lib/python3.11/site-packages/torchmetrics/utilities/checks.py:282\u001b[0m, in \u001b[0;36m_check_classification_inputs\u001b[0;34m(preds, target, threshold, num_classes, multiclass, top_k, ignore_index)\u001b[0m\n\u001b[1;32m    277\u001b[0m         \u001b[38;5;28;01mraise\u001b[39;00m \u001b[38;5;167;01mValueError\u001b[39;00m(\n\u001b[1;32m    278\u001b[0m             \u001b[38;5;124m\"\u001b[39m\u001b[38;5;124mYou have set `multiclass=False`, but have more than 2 classes in your data,\u001b[39m\u001b[38;5;124m\"\u001b[39m\n\u001b[1;32m    279\u001b[0m             \u001b[38;5;124m\"\u001b[39m\u001b[38;5;124m based on the C dimension of `preds`.\u001b[39m\u001b[38;5;124m\"\u001b[39m\n\u001b[1;32m    280\u001b[0m         )\n\u001b[1;32m    281\u001b[0m     \u001b[38;5;28;01mif\u001b[39;00m target\u001b[38;5;241m.\u001b[39mmax() \u001b[38;5;241m>\u001b[39m\u001b[38;5;241m=\u001b[39m implied_classes:\n\u001b[0;32m--> 282\u001b[0m         \u001b[38;5;28;01mraise\u001b[39;00m \u001b[38;5;167;01mValueError\u001b[39;00m(\n\u001b[1;32m    283\u001b[0m             \u001b[38;5;124m\"\u001b[39m\u001b[38;5;124mThe highest label in `target` should be smaller than the size of the `C` dimension of `preds`.\u001b[39m\u001b[38;5;124m\"\u001b[39m\n\u001b[1;32m    284\u001b[0m         )\n\u001b[1;32m    286\u001b[0m \u001b[38;5;66;03m# Check that num_classes is consistent\u001b[39;00m\n\u001b[1;32m    287\u001b[0m \u001b[38;5;28;01mif\u001b[39;00m num_classes:\n",
      "\u001b[0;31mValueError\u001b[0m: The highest label in `target` should be smaller than the size of the `C` dimension of `preds`."
     ]
    }
   ],
   "source": [
    "from dnafiber.deployment import _get_model, MODELS_ZOO\n",
    "from tqdm.auto import tqdm\n",
    "import torch\n",
    "\n",
    "all_scores = []\n",
    "for key, model_name in MODELS_ZOO.items():\n",
    "    if model_name.lower() == 'ensemble':\n",
    "        continue\n",
    "    model = _get_model(f\"{model_name}_finetuned\")\n",
    "\n",
    "    model = model.cuda()\n",
    "    model.eval()\n",
    "    metric = model.metric\n",
    "    for batch in tqdm(dataloader, total=len(dataloader)):\n",
    "        images = batch[\"image\"].cuda()\n",
    "        gt = batch[\"mask\"].cuda()\n",
    "        print(gt.max(), gt.min())\n",
    "        with torch.no_grad():\n",
    "            pred = model(images)\n",
    "            proba = torch.softmax(pred, dim=1)\n",
    "\n",
    "\n",
    "        metric.update(proba, gt)\n",
    "    scores = metric.compute()\n",
    "    scores[\"model\"] = key\n",
    "\n",
    "    for k, v in scores.items():\n",
    "        if isinstance(v, torch.Tensor):\n",
    "            scores[k] = v.item()\n",
    "    all_scores.append(scores)\n"
   ]
  },
  {
   "cell_type": "code",
   "execution_count": 19,
   "id": "688c0935",
   "metadata": {},
   "outputs": [
    {
     "data": {
      "text/plain": [
       "<matplotlib.image.AxesImage at 0x7331a0adeed0>"
      ]
     },
     "execution_count": 19,
     "metadata": {},
     "output_type": "execute_result"
    },
    {
     "data": {
      "image/png": "[encoded data removed]",
      "text/plain": [
       "<Figure size 640x480 with 1 Axes>"
      ]
     },
     "metadata": {},
     "output_type": "display_data"
    }
   ],
   "source": [
    "import matplotlib.pyplot as plt\n",
    "\n",
    "\n",
    "plt.imshow(gt[12].cpu().numpy())"
   ]
  },
  {
   "cell_type": "code",
   "execution_count": 16,
   "id": "37bfb155",
   "metadata": {},
   "outputs": [
    {
     "data": {
      "text/plain": [
       "tensor(12, device='cuda:0')"
      ]
     },
     "execution_count": 16,
     "metadata": {},
     "output_type": "execute_result"
    }
   ],
   "source": [
    "gt.flatten(1).max(dim=1).values.argmax()"
   ]
  },
  {
   "cell_type": "code",
   "execution_count": null,
   "id": "46b9bafd",
   "metadata": {},
   "outputs": [],
   "source": [
    "for k, v in scores.items():\n",
    "    if isinstance(v, torch.Tensor):\n",
    "        scores[k] = v.item()"
   ]
  },
  {
   "cell_type": "code",
   "execution_count": null,
   "id": "422cc5e1",
   "metadata": {},
   "outputs": [
    {
     "data": {
      "text/html": [
       "<div>\n",
       "<style scoped>\n",
       "    .dataframe tbody tr th:only-of-type {\n",
       "        vertical-align: middle;\n",
       "    }\n",
       "\n",
       "    .dataframe tbody tr th {\n",
       "        vertical-align: top;\n",
       "    }\n",
       "\n",
       "    .dataframe thead th {\n",
       "        text-align: right;\n",
       "    }\n",
       "</style>\n",
       "<table border=\"1\" class=\"dataframe\">\n",
       "  <thead>\n",
       "    <tr style=\"text-align: right;\">\n",
       "      <th></th>\n",
       "      <th>detection_precision</th>\n",
       "      <th>detection_recall</th>\n",
       "      <th>fiber_red_dice</th>\n",
       "      <th>fiber_green_dice</th>\n",
       "      <th>fiber_red_recall</th>\n",
       "      <th>fiber_green_recall</th>\n",
       "      <th>fiber_red_precision</th>\n",
       "      <th>fiber_green_precision</th>\n",
       "      <th>total_real_fibers</th>\n",
       "      <th>total_predicted_fibers</th>\n",
       "      <th>dice</th>\n",
       "      <th>jaccard</th>\n",
       "      <th>model</th>\n",
       "    </tr>\n",
       "  </thead>\n",
       "  <tbody>\n",
       "    <tr>\n",
       "      <th>0</th>\n",
       "      <td>0.500000</td>\n",
       "      <td>0.763889</td>\n",
       "      <td>0.801966</td>\n",
       "      <td>0.820294</td>\n",
       "      <td>0.806450</td>\n",
       "      <td>0.820593</td>\n",
       "      <td>0.946646</td>\n",
       "      <td>0.974891</td>\n",
       "      <td>1080</td>\n",
       "      <td>1650</td>\n",
       "      <td>0.573949</td>\n",
       "      <td>0.619052</td>\n",
       "      <td>jaccard</td>\n",
       "    </tr>\n",
       "    <tr>\n",
       "      <th>1</th>\n",
       "      <td>0.450079</td>\n",
       "      <td>0.001082</td>\n",
       "      <td>0.817008</td>\n",
       "      <td>0.812679</td>\n",
       "      <td>0.809454</td>\n",
       "      <td>0.804872</td>\n",
       "      <td>0.945312</td>\n",
       "      <td>0.966376</td>\n",
       "      <td>787501</td>\n",
       "      <td>264022</td>\n",
       "      <td>0.562234</td>\n",
       "      <td>0.621740</td>\n",
       "      <td>jaccard</td>\n",
       "    </tr>\n",
       "  </tbody>\n",
       "</table>\n",
       "</div>"
      ],
      "text/plain": [
       "   detection_precision  detection_recall  fiber_red_dice  fiber_green_dice  \\\n",
       "0             0.500000          0.763889        0.801966          0.820294   \n",
       "1             0.450079          0.001082        0.817008          0.812679   \n",
       "\n",
       "   fiber_red_recall  fiber_green_recall  fiber_red_precision  \\\n",
       "0          0.806450            0.820593             0.946646   \n",
       "1          0.809454            0.804872             0.945312   \n",
       "\n",
       "   fiber_green_precision  total_real_fibers  total_predicted_fibers      dice  \\\n",
       "0               0.974891               1080                    1650  0.573949   \n",
       "1               0.966376             787501                  264022  0.562234   \n",
       "\n",
       "    jaccard    model  \n",
       "0  0.619052  jaccard  \n",
       "1  0.621740  jaccard  "
      ]
     },
     "execution_count": 7,
     "metadata": {},
     "output_type": "execute_result"
    }
   ],
   "source": [
    "df = pd.DataFrame(all_scores)\n",
    "df"
   ]
  },
  {
   "cell_type": "code",
   "execution_count": null,
   "id": "4979a315",
   "metadata": {},
   "outputs": [
    {
     "data": {
      "text/plain": [
       "{'detection_precision': tensor(0.6757, device='cuda:0'),\n",
       " 'detection_recall': tensor(0.5814, device='cuda:0'),\n",
       " 'fiber_red_dice': tensor(0.7543, device='cuda:0'),\n",
       " 'fiber_green_dice': tensor(0.7711, device='cuda:0'),\n",
       " 'fiber_red_recall': tensor(0.7435, device='cuda:0'),\n",
       " 'fiber_green_recall': tensor(0.7906, device='cuda:0'),\n",
       " 'fiber_red_precision': tensor(0.9463, device='cuda:0'),\n",
       " 'fiber_green_precision': tensor(0.9416, device='cuda:0'),\n",
       " 'total_real_fibers': 129,\n",
       " 'total_predicted_fibers': 111,\n",
       " 'dice': tensor(0.4727, device='cuda:0'),\n",
       " 'jaccard': tensor(0.4366, device='cuda:0')}"
      ]
     },
     "execution_count": 46,
     "metadata": {},
     "output_type": "execute_result"
    }
   ],
   "source": [
    "from pathlib import Path\n",
    "import numpy as np\n",
    "\n",
    "root_clement = Path(\n",
    "    \"/home/clement/Documents/data/DNAFiber/Intergraders/Santiago/common/\"\n",
    ")\n",
    "imgs_clement = list(root_clement.rglob(\"*.png\"))\n",
    "imgs_hugo = list(\n",
    "    Path(\"/home/clement/Documents/data/DNAFiber/Intergraders/Yosra/common/\").rglob(\n",
    "        \"*.png\"\n",
    "    )\n",
    ")\n",
    "\n",
    "\n",
    "def read_mask(path):\n",
    "    import cv2\n",
    "\n",
    "    img = cv2.imread(str(path), cv2.IMREAD_UNCHANGED)[:, :, ::-1]  # BGR to RGB\n",
    "    h, w = img.shape[:2]\n",
    "    mask = np.zeros((h, w), dtype=np.uint8)\n",
    "    mask[img[:, :, 0] > 200] = 1\n",
    "    mask[img[:, :, 1] > 200] = 2\n",
    "    return mask[np.newaxis, ...]\n",
    "\n",
    "\n",
    "imgs_clement = (\n",
    "    torch.from_numpy(np.asarray([read_mask(p) for p in imgs_clement])).squeeze().cuda()\n",
    ")\n",
    "imgs_hugo = (\n",
    "    torch.from_numpy(np.asarray([read_mask(p) for p in imgs_hugo])).squeeze().cuda()\n",
    ")\n",
    "metrics = model.metric.clone()\n",
    "metrics.reset()\n",
    "\n",
    "metrics.update(imgs_clement, imgs_hugo)\n",
    "metrics.compute()"
   ]
  },
  {
   "cell_type": "code",
   "execution_count": null,
   "id": "4ba4107d",
   "metadata": {},
   "outputs": [
    {
     "data": {
      "text/plain": [
       "torch.Size([0])"
      ]
     },
     "execution_count": 37,
     "metadata": {},
     "output_type": "execute_result"
    }
   ],
   "source": [
    "imgs_hugo.shape"
   ]
  }
 ],
 "metadata": {
  "kernelspec": {
   "display_name": "dl",
   "language": "python",
   "name": "python3"
  },
  "language_info": {
   "codemirror_mode": {
    "name": "ipython",
    "version": 3
   },
   "file_extension": ".py",
   "mimetype": "text/x-python",
   "name": "python",
   "nbconvert_exporter": "python",
   "pygments_lexer": "ipython3",
   "version": "3.11.9"
  }
 },
 "nbformat": 4,
 "nbformat_minor": 5
}
