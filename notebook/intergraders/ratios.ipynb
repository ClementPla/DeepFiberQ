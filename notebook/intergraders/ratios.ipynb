{
 "cells": [
  {
   "cell_type": "code",
   "execution_count": 89,
   "id": "720a28d3",
   "metadata": {},
   "outputs": [
    {
     "name": "stdout",
     "output_type": "stream",
     "text": [
      "The autoreload extension is already loaded. To reload it, use:\n",
      "  %reload_ext autoreload\n"
     ]
    }
   ],
   "source": [
    "%load_ext autoreload\n",
    "%autoreload 2\n",
    "\n",
    "from pathlib import Path\n",
    "from scipy import stats\n",
    "import matplotlib.pyplot as plt\n",
    "import numpy as np\n",
    "import pandas as pd\n",
    "import plotly.express as px\n",
    "import seaborn as sns\n",
    "from bokeh.io import output_file, output_notebook, show\n",
    "from bokeh.models import ColumnDataSource\n",
    "from bokeh.palettes import GnBu3, OrRd3\n",
    "from bokeh.plotting import figure\n",
    "from scipy.stats import wilcoxon\n",
    "\n",
    "from dnafiber import get_model\n",
    "from dnafiber.data.intergrader import BLIND_MAPPING, REVERSE_BLIND_MAPPING\n",
    "from dnafiber.data.intergrader.io import read_mask_from_path_gens\n",
    "from dnafiber.data.intergrader.plot import imshow_compare, add_p_value_annotation\n",
    "import catppuccin"
   ]
  },
  {
   "cell_type": "code",
   "execution_count": 88,
   "id": "9216b784",
   "metadata": {},
   "outputs": [
    {
     "data": {
      "application/vnd.plotly.v1+json": {
       "config": {
        "plotlyServerURL": "https://plot.ly"
       },
       "data": [
        {
         "alignmentgroup": "True",
         "box": {
          "visible": true
         },
         "hovertemplate": "Annotator=%{x}<br>Ratio=%{y}<extra></extra>",
         "legendgroup": "S",
         "marker": {
          "color": "#F8766D"
         },
         "name": "S",
         "offsetgroup": "S",
         "orientation": "v",
         "points": "all",
         "scalegroup": "True",
         "showlegend": true,
         "type": "violin",
         "x": [
          "S",
          "S",
          "S",
          "S",
          "S",
          "S",
          "S",
          "S",
          "S",
          "S",
          "S",
          "S",
          "S",
          "S",
          "S",
          "S",
          "S",
          "S",
          "S",
          "S",
          "S",
          "S",
          "S",
          "S",
          "S",
          "S",
          "S",
          "S",
          "S",
          "S",
          "S",
          "S",
          "S",
          "S",
          "S",
          "S",
          "S",
          "S",
          "S",
          "S",
          "S",
          "S",
          "S",
          "S",
          "S",
          "S",
          "S",
          "S",
          "S",
          "S",
          "S",
          "S",
          "S",
          "S",
          "S",
          "S",
          "S",
          "S",
          "S",
          "S",
          "S",
          "S",
          "S",
          "S",
          "S",
          "S",
          "S"
         ],
         "x0": " ",
         "xaxis": "x",
         "y": [
          0.6666666666661499,
          0.879999999999296,
          0.5526315789459141,
          0.30769230769196954,
          0.5769230769219674,
          0.6410256410248192,
          0.399999999999,
          0.9473684210501384,
          0.9642857142822705,
          0.695652173910019,
          0.5999999999976,
          0.7631578947348338,
          0.7575757575734618,
          0.6086956521725898,
          0.31428571428481633,
          0.517241379309453,
          0.7333333333308889,
          0.34210526315699447,
          0.34285714285616326,
          0.8888888888864197,
          0.87999999999648,
          1.1111111111049383,
          0.9428571428544489,
          0.33333333333222226,
          0.999999999996154,
          0.8636363636324381,
          1.2031249999981202,
          0.42857142857091834,
          0.6296296296288523,
          0.44186046511576527,
          0.4999999999988095,
          0.5813953488365332,
          0.4999999999992424,
          0.6307692307682603,
          1.097560975607079,
          1.216216216212929,
          1.2173913043451796,
          0.7073170731690065,
          0.3414634146333135,
          0.3770491803272507,
          0.39130434782438567,
          0.9615384615347634,
          1.1249999999953126,
          0.9166666666628472,
          0.74999999999375,
          1.3181818181758265,
          1.1578947368360113,
          1.4374999999910159,
          0.6176470588217128,
          1.2399999999950402,
          0.3333333333319445,
          0.5862068965497028,
          0.8913043478241494,
          0.5121951219499702,
          0.5294117647043253,
          1.1935483870929242,
          0.5999999999990769,
          0.5757575757567034,
          0.3249999999995937,
          0.7812499999987793,
          0.33333333333055554,
          1.6874999999894533,
          0.6842105263121885,
          0.8378378378355734,
          0.7999999999982222,
          0.6551724137908442,
          1.047619047614059
         ],
         "y0": " ",
         "yaxis": "y"
        },
        {
         "alignmentgroup": "True",
         "box": {
          "visible": true
         },
         "hovertemplate": "Annotator=%{x}<br>Ratio=%{y}<extra></extra>",
         "legendgroup": "H",
         "marker": {
          "color": "#A3A500"
         },
         "name": "H",
         "offsetgroup": "H",
         "orientation": "v",
         "points": "all",
         "scalegroup": "True",
         "showlegend": true,
         "type": "violin",
         "x": [
          "H",
          "H",
          "H",
          "H",
          "H",
          "H",
          "H",
          "H",
          "H",
          "H",
          "H",
          "H",
          "H",
          "H",
          "H",
          "H",
          "H",
          "H",
          "H",
          "H",
          "H",
          "H",
          "H",
          "H",
          "H",
          "H",
          "H",
          "H",
          "H",
          "H",
          "H",
          "H",
          "H",
          "H",
          "H",
          "H",
          "H",
          "H",
          "H",
          "H",
          "H",
          "H",
          "H",
          "H",
          "H",
          "H",
          "H",
          "H",
          "H",
          "H",
          "H",
          "H",
          "H",
          "H",
          "H",
          "H",
          "H",
          "H",
          "H",
          "H",
          "H",
          "H",
          "H",
          "H",
          "H",
          "H",
          "H",
          "H",
          "H",
          "H",
          "H",
          "H",
          "H",
          "H",
          "H",
          "H",
          "H",
          "H",
          "H",
          "H",
          "H",
          "H",
          "H",
          "H",
          "H",
          "H",
          "H",
          "H",
          "H",
          "H",
          "H",
          "H",
          "H",
          "H",
          "H",
          "H",
          "H",
          "H",
          "H",
          "H",
          "H",
          "H",
          "H",
          "H",
          "H",
          "H",
          "H",
          "H",
          "H"
         ],
         "x0": " ",
         "xaxis": "x",
         "y": [
          0.6616541353378484,
          0.983050847456794,
          0.2857142857137026,
          0.41860465116230394,
          0.21428571428549562,
          0.46067415730285316,
          0.5555555555545267,
          0.37179487179439513,
          0.13636363636301654,
          0.649350649349806,
          1.1923076923031066,
          0.5348837209289886,
          0.7666666666641112,
          0.599999999996,
          0.695652173910019,
          0.7272727272694215,
          0.40624999999873046,
          0.6249999999984375,
          0.44999999999887497,
          0.7560975609737656,
          0.9999999999956523,
          0.5111111111099753,
          0.5609756097547293,
          1.2758620689611178,
          0.4736842105250692,
          0.6097560975594883,
          0.5675675675660335,
          0.18181818181794568,
          0.6774193548365245,
          0.6341463414618679,
          0.5135135135121256,
          0.6739130434767958,
          0.4242424242411386,
          0.7333333333308889,
          0.515151515149954,
          0.4333333333318889,
          0.4285714285702041,
          1.2499999999921876,
          0.35294117646955014,
          0.914285714283102,
          0.9199999999963201,
          1.1666666666601853,
          0.9696969696940312,
          0.3333333333311111,
          0.36666666666544445,
          0.9999999999958334,
          0.8571428571387756,
          1.2307692307673372,
          0.30666666666625775,
          0.6624999999991719,
          0.4301075268812579,
          0.4705882352934256,
          1.097560975607079,
          1.3124999999979492,
          1.1891891891859752,
          1.2553191489334992,
          0.30952380952307257,
          0.39999999999933333,
          0.478260869563138,
          1.1999999999952,
          0.9629629629593965,
          0.7037037037010975,
          0.8055555555533178,
          0.999999999990909,
          1.3529411764626298,
          1.6315789473598339,
          2.222222222197531,
          1.4705882352854673,
          1.3571428571331632,
          0.6060606060587694,
          1.0416666666623264,
          0.7714285714263673,
          0.6666666666634922,
          0.8260869565181476,
          0.5652173913018904,
          0.9473684210476455,
          0.9999999999950001,
          0.8863636363616219,
          0.7297297297277574,
          0.5937499999981445,
          1.107142857138903,
          1.0999999999963335,
          0.95999999999616,
          0.5967741935474246,
          0.6086956521730309,
          0.8846153846136834,
          0.27142857142818366,
          0.5156249999991943,
          0.333333333332906,
          0.6346153846141642,
          0.614035087718221,
          0.40277777777721835,
          0.4428571428565102,
          0.37037037036899867,
          0.42105263157783934,
          1.5882352941083047,
          0.7368421052592798,
          0.8205128205107166,
          1.0243902438999404,
          0.6122448979579341,
          0.7777777777756173,
          0.799999999992,
          0.7272727272705234,
          0.16279069767404,
          0.7333333333284444,
          0.6172839506165219,
          0.9782608695630907,
          0.5599999999977601,
          0.6666666666592592
         ],
         "y0": " ",
         "yaxis": "y"
        },
        {
         "alignmentgroup": "True",
         "box": {
          "visible": true
         },
         "hovertemplate": "Annotator=%{x}<br>Ratio=%{y}<extra></extra>",
         "legendgroup": "Y",
         "marker": {
          "color": "#00BF7D"
         },
         "name": "Y",
         "offsetgroup": "Y",
         "orientation": "v",
         "points": "all",
         "scalegroup": "True",
         "showlegend": true,
         "type": "violin",
         "x": [
          "Y",
          "Y",
          "Y",
          "Y",
          "Y",
          "Y",
          "Y",
          "Y",
          "Y",
          "Y",
          "Y",
          "Y",
          "Y",
          "Y",
          "Y",
          "Y",
          "Y",
          "Y",
          "Y",
          "Y",
          "Y",
          "Y",
          "Y",
          "Y",
          "Y",
          "Y",
          "Y",
          "Y",
          "Y",
          "Y",
          "Y",
          "Y",
          "Y",
          "Y",
          "Y",
          "Y",
          "Y",
          "Y",
          "Y",
          "Y",
          "Y",
          "Y",
          "Y",
          "Y",
          "Y",
          "Y",
          "Y",
          "Y",
          "Y",
          "Y",
          "Y",
          "Y",
          "Y",
          "Y",
          "Y",
          "Y",
          "Y",
          "Y",
          "Y",
          "Y",
          "Y",
          "Y",
          "Y",
          "Y",
          "Y",
          "Y",
          "Y",
          "Y",
          "Y",
          "Y",
          "Y",
          "Y",
          "Y",
          "Y"
         ],
         "x0": " ",
         "xaxis": "x",
         "y": [
          1.0614035087709988,
          0.3777777777769383,
          0.3617021276588049,
          0.30337078651651306,
          0.449438202246686,
          0.6753246753237983,
          0.35897435897389873,
          0.7499999999988282,
          0.6764705882342993,
          0.6969696969675849,
          0.6086956521725898,
          1.5185185185128944,
          0.399999999999,
          0.636363636361708,
          0.7749999999980625,
          0.5249999999986875,
          0.7499999999973215,
          0.3870967741922997,
          0.3783783783773557,
          1.2352941176397925,
          0.6206896551702735,
          0.9166666666641203,
          0.8928571428539541,
          0.9166666666641203,
          0.3793103448262783,
          0.9230769230733729,
          0.8695652173875237,
          0.36619718309807575,
          0.6292134831453604,
          0.4999999999993902,
          0.6341463414626413,
          0.3943661971825431,
          1.380281690138901,
          0.9999999999977778,
          1.210526315786288,
          1.3409090909060433,
          1.7818181818149421,
          0.5512820512813444,
          0.21276595744635582,
          0.4166666666659722,
          0.5454545454520662,
          1.2083333333282986,
          0.9615384615347634,
          0.8888888888855968,
          0.9230769230698225,
          1.3181818181758265,
          1.4117647058740486,
          0.7187499999977539,
          1.5499999999922502,
          0.8888888888839507,
          1.09523809523288,
          0.8936170212746944,
          0.7368421052612188,
          0.49999999999843747,
          1.230769230764497,
          1.1333333333295557,
          1.1199999999955201,
          0.6515151515141644,
          0.5441176470580233,
          0.3499999999995625,
          0.8275862068951249,
          0.9772727272705062,
          0.6727272727260496,
          0.5312499999991699,
          0.5138888888881752,
          0.5142857142842449,
          1.9374999999878908,
          0.799999999998,
          0.764705882350692,
          0.931818181816064,
          0.5483870967724246,
          0.6962025316446884,
          0.93478260869362,
          1.09523809523288
         ],
         "y0": " ",
         "yaxis": "y"
        },
        {
         "alignmentgroup": "True",
         "box": {
          "visible": true
         },
         "hovertemplate": "Annotator=%{x}<br>Ratio=%{y}<extra></extra>",
         "legendgroup": "C",
         "marker": {
          "color": "#00B0F6"
         },
         "name": "C",
         "offsetgroup": "C",
         "orientation": "v",
         "points": "all",
         "scalegroup": "True",
         "showlegend": true,
         "type": "violin",
         "x": [
          "C",
          "C",
          "C",
          "C",
          "C",
          "C",
          "C",
          "C",
          "C",
          "C",
          "C",
          "C",
          "C",
          "C",
          "C",
          "C",
          "C",
          "C",
          "C",
          "C",
          "C",
          "C",
          "C",
          "C",
          "C",
          "C",
          "C",
          "C",
          "C",
          "C",
          "C",
          "C",
          "C",
          "C",
          "C",
          "C",
          "C",
          "C",
          "C",
          "C",
          "C",
          "C",
          "C",
          "C",
          "C",
          "C",
          "C",
          "C",
          "C",
          "C",
          "C",
          "C",
          "C",
          "C",
          "C",
          "C",
          "C",
          "C"
         ],
         "x0": " ",
         "xaxis": "x",
         "y": [
          0.8032786885239317,
          0.3571428571420068,
          0.2608695652168242,
          0.3146067415726802,
          0.12037037037025891,
          0.6578947368412396,
          0.6521739130406428,
          0.722222222220216,
          0.7714285714263673,
          0.5454545454533057,
          0.8787878787852157,
          1.535714285708801,
          0.6749999999983125,
          0.7241379310319858,
          0.34210526315699447,
          1.4285714285612245,
          0.35294117646955014,
          0.689655172411415,
          1.124999999992969,
          1.0967741935448492,
          0.9350649350637207,
          0.3239436619713747,
          0.5977011494246003,
          0.42045454545406763,
          0.6486486486468955,
          0.5454545454539256,
          0.44927536231818943,
          0.8863636363616219,
          1.1578947368390582,
          1.3181818181788223,
          0.682926829266627,
          0.18072289156604732,
          0.592592592591861,
          0.27272727272665287,
          0.4067796610162597,
          0.599999999997,
          0.9999999999960001,
          0.9230769230733729,
          0.6923076923050296,
          0.9090909090826447,
          1.1176470588169551,
          1.3181818181758265,
          0.7096774193525495,
          1.4499999999927502,
          0.9166666666628472,
          0.7333333333317037,
          0.6486486486468955,
          0.6206896551702735,
          0.5652173913035287,
          0.5384615384607101,
          0.324675324674903,
          0.5084745762703246,
          0.5806451612884496,
          0.5161290322563996,
          0.28571428571346935,
          0.45945945945821765,
          0.7804878048761451,
          1.1578947368360113
         ],
         "y0": " ",
         "yaxis": "y"
        },
        {
         "alignmentgroup": "True",
         "box": {
          "visible": true
         },
         "hovertemplate": "Annotator=%{x}<br>Ratio=%{y}<extra></extra>",
         "legendgroup": "IA",
         "marker": {
          "color": "#E76BF3"
         },
         "name": "IA",
         "offsetgroup": "IA",
         "orientation": "v",
         "points": "all",
         "scalegroup": "True",
         "showlegend": true,
         "type": "violin",
         "x": [
          "IA",
          "IA",
          "IA",
          "IA",
          "IA",
          "IA",
          "IA",
          "IA",
          "IA",
          "IA",
          "IA",
          "IA",
          "IA",
          "IA",
          "IA",
          "IA",
          "IA",
          "IA",
          "IA",
          "IA",
          "IA",
          "IA",
          "IA",
          "IA",
          "IA",
          "IA",
          "IA",
          "IA",
          "IA",
          "IA",
          "IA",
          "IA",
          "IA",
          "IA",
          "IA",
          "IA",
          "IA",
          "IA",
          "IA",
          "IA",
          "IA",
          "IA",
          "IA",
          "IA",
          "IA",
          "IA",
          "IA",
          "IA",
          "IA",
          "IA",
          "IA",
          "IA",
          "IA",
          "IA",
          "IA",
          "IA",
          "IA",
          "IA",
          "IA",
          "IA",
          "IA",
          "IA",
          "IA",
          "IA",
          "IA",
          "IA",
          "IA",
          "IA",
          "IA",
          "IA",
          "IA",
          "IA",
          "IA"
         ],
         "x0": " ",
         "xaxis": "x",
         "y": [
          0.40476190476094104,
          0.7916666666655671,
          1.205128205125115,
          3.899999999961,
          1.0344827586171226,
          1.4999999999955882,
          0.7567567567547114,
          0.7599999999969601,
          1.4999999999906253,
          0.9333333333302223,
          0.6341463414618679,
          0.5277777777763117,
          1.030303030299908,
          0.8684210526292936,
          0.6666666666646465,
          0.6976744186030286,
          1.6666666666481482,
          0.7948717948697567,
          1.2352941176397925,
          0.4999999999977273,
          1.8181818181652893,
          0.576923076920858,
          0.9459459459433893,
          1.0833333333288195,
          0.06818181818166322,
          0.8888888888855968,
          0.48571428571289793,
          1.3749999999914064,
          0.4374999999986328,
          1.4137931034434008,
          4.166666666597222,
          0.9230769230751479,
          1.2295081967192958,
          0.3544303797463868,
          0.4999999999992424,
          0.43902439024336704,
          0.7321428571415497,
          0.7499999999979167,
          0.5333333333321482,
          0.516853932583689,
          0.6949152542361103,
          0.49253731343210067,
          1.1190476190449545,
          1.263157894733518,
          2.899999999971,
          1.2499999999973959,
          1.2499999999960938,
          1.116279069764846,
          0.2340425531909914,
          0.42622950819602257,
          0.3999999999984,
          1.9999999999857143,
          0.5142857142842449,
          1.5238095238022678,
          0.9032258064486993,
          0.8666666666647407,
          0.7567567567547114,
          0.6451612903204995,
          1.2999999999956668,
          0.9666666666634445,
          0.4428571428565102,
          0.7916666666650173,
          0.7656249999988037,
          0.7037037037024005,
          0.9999999999965518,
          0.4857142857135918,
          0.6417910447751615,
          0.17391304347750475,
          1.1562499999963867,
          0.4054054054043097,
          0.5333333333315556,
          0.9583333333293403,
          1.0454545454521693
         ],
         "y0": " ",
         "yaxis": "y"
        }
       ],
       "layout": {
        "annotations": [
         {
          "font": {
           "color": "black",
           "size": 14
          },
          "showarrow": false,
          "text": "ns",
          "textangle": 0,
          "x": 0.5,
          "xref": "x",
          "y": 1.0914000000000001,
          "yref": "y domain"
         },
         {
          "font": {
           "color": "black",
           "size": 14
          },
          "showarrow": false,
          "text": "ns",
          "textangle": 0,
          "x": 1.5,
          "xref": "x",
          "y": 1.1663000000000001,
          "yref": "y domain"
         },
         {
          "font": {
           "color": "black",
           "size": 14
          },
          "showarrow": false,
          "text": "ns",
          "textangle": 0,
          "x": 2,
          "xref": "x",
          "y": 1.2412000000000003,
          "yref": "y domain"
         },
         {
          "font": {
           "color": "black",
           "size": 14
          },
          "showarrow": false,
          "text": "*",
          "textangle": 0,
          "x": 2.5,
          "xref": "x",
          "y": 1.3161,
          "yref": "y domain"
         }
        ],
        "legend": {
         "title": {
          "text": "Annotator"
         },
         "tracegroupgap": 0
        },
        "margin": {
         "t": 115
        },
        "shapes": [
         {
          "line": {
           "color": "black",
           "width": 2
          },
          "type": "line",
          "x0": 0,
          "x1": 0,
          "xref": "x",
          "y0": 1.01,
          "y1": 1.02,
          "yref": "y domain"
         },
         {
          "line": {
           "color": "black",
           "width": 2
          },
          "type": "line",
          "x0": 0,
          "x1": 1,
          "xref": "x",
          "y0": 1.02,
          "y1": 1.02,
          "yref": "y domain"
         },
         {
          "line": {
           "color": "black",
           "width": 2
          },
          "type": "line",
          "x0": 1,
          "x1": 1,
          "xref": "x",
          "y0": 1.01,
          "y1": 1.02,
          "yref": "y domain"
         },
         {
          "line": {
           "color": "black",
           "width": 2
          },
          "type": "line",
          "x0": 1,
          "x1": 1,
          "xref": "x",
          "y0": 1.08,
          "y1": 1.09,
          "yref": "y domain"
         },
         {
          "line": {
           "color": "black",
           "width": 2
          },
          "type": "line",
          "x0": 1,
          "x1": 2,
          "xref": "x",
          "y0": 1.09,
          "y1": 1.09,
          "yref": "y domain"
         },
         {
          "line": {
           "color": "black",
           "width": 2
          },
          "type": "line",
          "x0": 2,
          "x1": 2,
          "xref": "x",
          "y0": 1.08,
          "y1": 1.09,
          "yref": "y domain"
         },
         {
          "line": {
           "color": "black",
           "width": 2
          },
          "type": "line",
          "x0": 1,
          "x1": 1,
          "xref": "x",
          "y0": 1.15,
          "y1": 1.1600000000000001,
          "yref": "y domain"
         },
         {
          "line": {
           "color": "black",
           "width": 2
          },
          "type": "line",
          "x0": 1,
          "x1": 3,
          "xref": "x",
          "y0": 1.1600000000000001,
          "y1": 1.1600000000000001,
          "yref": "y domain"
         },
         {
          "line": {
           "color": "black",
           "width": 2
          },
          "type": "line",
          "x0": 3,
          "x1": 3,
          "xref": "x",
          "y0": 1.15,
          "y1": 1.1600000000000001,
          "yref": "y domain"
         },
         {
          "line": {
           "color": "black",
           "width": 2
          },
          "type": "line",
          "x0": 1,
          "x1": 1,
          "xref": "x",
          "y0": 1.22,
          "y1": 1.23,
          "yref": "y domain"
         },
         {
          "line": {
           "color": "black",
           "width": 2
          },
          "type": "line",
          "x0": 1,
          "x1": 4,
          "xref": "x",
          "y0": 1.23,
          "y1": 1.23,
          "yref": "y domain"
         },
         {
          "line": {
           "color": "black",
           "width": 2
          },
          "type": "line",
          "x0": 4,
          "x1": 4,
          "xref": "x",
          "y0": 1.22,
          "y1": 1.23,
          "yref": "y domain"
         }
        ],
        "template": {
         "data": {
          "bar": [
           {
            "error_x": {
             "color": "rgb(51,51,51)"
            },
            "error_y": {
             "color": "rgb(51,51,51)"
            },
            "marker": {
             "line": {
              "color": "rgb(237,237,237)",
              "width": 0.5
             },
             "pattern": {
              "fillmode": "overlay",
              "size": 10,
              "solidity": 0.2
             }
            },
            "type": "bar"
           }
          ],
          "barpolar": [
           {
            "marker": {
             "line": {
              "color": "rgb(237,237,237)",
              "width": 0.5
             },
             "pattern": {
              "fillmode": "overlay",
              "size": 10,
              "solidity": 0.2
             }
            },
            "type": "barpolar"
           }
          ],
          "carpet": [
           {
            "aaxis": {
             "endlinecolor": "rgb(51,51,51)",
             "gridcolor": "white",
             "linecolor": "white",
             "minorgridcolor": "white",
             "startlinecolor": "rgb(51,51,51)"
            },
            "baxis": {
             "endlinecolor": "rgb(51,51,51)",
             "gridcolor": "white",
             "linecolor": "white",
             "minorgridcolor": "white",
             "startlinecolor": "rgb(51,51,51)"
            },
            "type": "carpet"
           }
          ],
          "choropleth": [
           {
            "colorbar": {
             "outlinewidth": 0,
             "tickcolor": "rgb(237,237,237)",
             "ticklen": 6,
             "ticks": "inside"
            },
            "type": "choropleth"
           }
          ],
          "contour": [
           {
            "colorbar": {
             "outlinewidth": 0,
             "tickcolor": "rgb(237,237,237)",
             "ticklen": 6,
             "ticks": "inside"
            },
            "colorscale": [
             [
              0,
              "rgb(20,44,66)"
             ],
             [
              1,
              "rgb(90,179,244)"
             ]
            ],
            "type": "contour"
           }
          ],
          "contourcarpet": [
           {
            "colorbar": {
             "outlinewidth": 0,
             "tickcolor": "rgb(237,237,237)",
             "ticklen": 6,
             "ticks": "inside"
            },
            "type": "contourcarpet"
           }
          ],
          "heatmap": [
           {
            "colorbar": {
             "outlinewidth": 0,
             "tickcolor": "rgb(237,237,237)",
             "ticklen": 6,
             "ticks": "inside"
            },
            "colorscale": [
             [
              0,
              "rgb(20,44,66)"
             ],
             [
              1,
              "rgb(90,179,244)"
             ]
            ],
            "type": "heatmap"
           }
          ],
          "heatmapgl": [
           {
            "colorbar": {
             "outlinewidth": 0,
             "tickcolor": "rgb(237,237,237)",
             "ticklen": 6,
             "ticks": "inside"
            },
            "colorscale": [
             [
              0,
              "rgb(20,44,66)"
             ],
             [
              1,
              "rgb(90,179,244)"
             ]
            ],
            "type": "heatmapgl"
           }
          ],
          "histogram": [
           {
            "marker": {
             "pattern": {
              "fillmode": "overlay",
              "size": 10,
              "solidity": 0.2
             }
            },
            "type": "histogram"
           }
          ],
          "histogram2d": [
           {
            "colorbar": {
             "outlinewidth": 0,
             "tickcolor": "rgb(237,237,237)",
             "ticklen": 6,
             "ticks": "inside"
            },
            "colorscale": [
             [
              0,
              "rgb(20,44,66)"
             ],
             [
              1,
              "rgb(90,179,244)"
             ]
            ],
            "type": "histogram2d"
           }
          ],
          "histogram2dcontour": [
           {
            "colorbar": {
             "outlinewidth": 0,
             "tickcolor": "rgb(237,237,237)",
             "ticklen": 6,
             "ticks": "inside"
            },
            "colorscale": [
             [
              0,
              "rgb(20,44,66)"
             ],
             [
              1,
              "rgb(90,179,244)"
             ]
            ],
            "type": "histogram2dcontour"
           }
          ],
          "mesh3d": [
           {
            "colorbar": {
             "outlinewidth": 0,
             "tickcolor": "rgb(237,237,237)",
             "ticklen": 6,
             "ticks": "inside"
            },
            "type": "mesh3d"
           }
          ],
          "parcoords": [
           {
            "line": {
             "colorbar": {
              "outlinewidth": 0,
              "tickcolor": "rgb(237,237,237)",
              "ticklen": 6,
              "ticks": "inside"
             }
            },
            "type": "parcoords"
           }
          ],
          "pie": [
           {
            "automargin": true,
            "type": "pie"
           }
          ],
          "scatter": [
           {
            "fillpattern": {
             "fillmode": "overlay",
             "size": 10,
             "solidity": 0.2
            },
            "type": "scatter"
           }
          ],
          "scatter3d": [
           {
            "line": {
             "colorbar": {
              "outlinewidth": 0,
              "tickcolor": "rgb(237,237,237)",
              "ticklen": 6,
              "ticks": "inside"
             }
            },
            "marker": {
             "colorbar": {
              "outlinewidth": 0,
              "tickcolor": "rgb(237,237,237)",
              "ticklen": 6,
              "ticks": "inside"
             }
            },
            "type": "scatter3d"
           }
          ],
          "scattercarpet": [
           {
            "marker": {
             "colorbar": {
              "outlinewidth": 0,
              "tickcolor": "rgb(237,237,237)",
              "ticklen": 6,
              "ticks": "inside"
             }
            },
            "type": "scattercarpet"
           }
          ],
          "scattergeo": [
           {
            "marker": {
             "colorbar": {
              "outlinewidth": 0,
              "tickcolor": "rgb(237,237,237)",
              "ticklen": 6,
              "ticks": "inside"
             }
            },
            "type": "scattergeo"
           }
          ],
          "scattergl": [
           {
            "marker": {
             "colorbar": {
              "outlinewidth": 0,
              "tickcolor": "rgb(237,237,237)",
              "ticklen": 6,
              "ticks": "inside"
             }
            },
            "type": "scattergl"
           }
          ],
          "scattermapbox": [
           {
            "marker": {
             "colorbar": {
              "outlinewidth": 0,
              "tickcolor": "rgb(237,237,237)",
              "ticklen": 6,
              "ticks": "inside"
             }
            },
            "type": "scattermapbox"
           }
          ],
          "scatterpolar": [
           {
            "marker": {
             "colorbar": {
              "outlinewidth": 0,
              "tickcolor": "rgb(237,237,237)",
              "ticklen": 6,
              "ticks": "inside"
             }
            },
            "type": "scatterpolar"
           }
          ],
          "scatterpolargl": [
           {
            "marker": {
             "colorbar": {
              "outlinewidth": 0,
              "tickcolor": "rgb(237,237,237)",
              "ticklen": 6,
              "ticks": "inside"
             }
            },
            "type": "scatterpolargl"
           }
          ],
          "scatterternary": [
           {
            "marker": {
             "colorbar": {
              "outlinewidth": 0,
              "tickcolor": "rgb(237,237,237)",
              "ticklen": 6,
              "ticks": "inside"
             }
            },
            "type": "scatterternary"
           }
          ],
          "surface": [
           {
            "colorbar": {
             "outlinewidth": 0,
             "tickcolor": "rgb(237,237,237)",
             "ticklen": 6,
             "ticks": "inside"
            },
            "colorscale": [
             [
              0,
              "rgb(20,44,66)"
             ],
             [
              1,
              "rgb(90,179,244)"
             ]
            ],
            "type": "surface"
           }
          ],
          "table": [
           {
            "cells": {
             "fill": {
              "color": "rgb(237,237,237)"
             },
             "line": {
              "color": "white"
             }
            },
            "header": {
             "fill": {
              "color": "rgb(217,217,217)"
             },
             "line": {
              "color": "white"
             }
            },
            "type": "table"
           }
          ]
         },
         "layout": {
          "annotationdefaults": {
           "arrowhead": 0,
           "arrowwidth": 1
          },
          "autotypenumbers": "strict",
          "coloraxis": {
           "colorbar": {
            "outlinewidth": 0,
            "tickcolor": "rgb(237,237,237)",
            "ticklen": 6,
            "ticks": "inside"
           }
          },
          "colorscale": {
           "sequential": [
            [
             0,
             "rgb(20,44,66)"
            ],
            [
             1,
             "rgb(90,179,244)"
            ]
           ],
           "sequentialminus": [
            [
             0,
             "rgb(20,44,66)"
            ],
            [
             1,
             "rgb(90,179,244)"
            ]
           ]
          },
          "colorway": [
           "#F8766D",
           "#A3A500",
           "#00BF7D",
           "#00B0F6",
           "#E76BF3"
          ],
          "font": {
           "color": "rgb(51,51,51)"
          },
          "geo": {
           "bgcolor": "white",
           "lakecolor": "white",
           "landcolor": "rgb(237,237,237)",
           "showlakes": true,
           "showland": true,
           "subunitcolor": "white"
          },
          "hoverlabel": {
           "align": "left"
          },
          "hovermode": "closest",
          "paper_bgcolor": "white",
          "plot_bgcolor": "rgb(237,237,237)",
          "polar": {
           "angularaxis": {
            "gridcolor": "white",
            "linecolor": "white",
            "showgrid": true,
            "tickcolor": "rgb(51,51,51)",
            "ticks": "outside"
           },
           "bgcolor": "rgb(237,237,237)",
           "radialaxis": {
            "gridcolor": "white",
            "linecolor": "white",
            "showgrid": true,
            "tickcolor": "rgb(51,51,51)",
            "ticks": "outside"
           }
          },
          "scene": {
           "xaxis": {
            "backgroundcolor": "rgb(237,237,237)",
            "gridcolor": "white",
            "gridwidth": 2,
            "linecolor": "white",
            "showbackground": true,
            "showgrid": true,
            "tickcolor": "rgb(51,51,51)",
            "ticks": "outside",
            "zerolinecolor": "white"
           },
           "yaxis": {
            "backgroundcolor": "rgb(237,237,237)",
            "gridcolor": "white",
            "gridwidth": 2,
            "linecolor": "white",
            "showbackground": true,
            "showgrid": true,
            "tickcolor": "rgb(51,51,51)",
            "ticks": "outside",
            "zerolinecolor": "white"
           },
           "zaxis": {
            "backgroundcolor": "rgb(237,237,237)",
            "gridcolor": "white",
            "gridwidth": 2,
            "linecolor": "white",
            "showbackground": true,
            "showgrid": true,
            "tickcolor": "rgb(51,51,51)",
            "ticks": "outside",
            "zerolinecolor": "white"
           }
          },
          "shapedefaults": {
           "fillcolor": "black",
           "line": {
            "width": 0
           },
           "opacity": 0.3
          },
          "ternary": {
           "aaxis": {
            "gridcolor": "white",
            "linecolor": "white",
            "showgrid": true,
            "tickcolor": "rgb(51,51,51)",
            "ticks": "outside"
           },
           "baxis": {
            "gridcolor": "white",
            "linecolor": "white",
            "showgrid": true,
            "tickcolor": "rgb(51,51,51)",
            "ticks": "outside"
           },
           "bgcolor": "rgb(237,237,237)",
           "caxis": {
            "gridcolor": "white",
            "linecolor": "white",
            "showgrid": true,
            "tickcolor": "rgb(51,51,51)",
            "ticks": "outside"
           }
          },
          "xaxis": {
           "automargin": true,
           "gridcolor": "white",
           "linecolor": "white",
           "showgrid": true,
           "tickcolor": "rgb(51,51,51)",
           "ticks": "outside",
           "title": {
            "standoff": 15
           },
           "zerolinecolor": "white"
          },
          "yaxis": {
           "automargin": true,
           "gridcolor": "white",
           "linecolor": "white",
           "showgrid": true,
           "tickcolor": "rgb(51,51,51)",
           "ticks": "outside",
           "title": {
            "standoff": 15
           },
           "zerolinecolor": "white"
          }
         }
        },
        "violinmode": "overlay",
        "xaxis": {
         "anchor": "y",
         "categoryarray": [
          "S",
          "H",
          "Y",
          "C",
          "IA"
         ],
         "categoryorder": "array",
         "domain": [
          0,
          1
         ],
         "title": {
          "text": "Annotator"
         }
        },
        "yaxis": {
         "anchor": "x",
         "domain": [
          0,
          1
         ],
         "title": {
          "text": "Ratio"
         }
        }
       }
      }
     },
     "metadata": {},
     "output_type": "display_data"
    }
   ],
   "source": [
    "df = pd.read_pickle(\"properties_with_IA.pkl\")\n",
    "filtered = df[(df.fiber_type == \"double\")]\n",
    "filtered = filtered[filtered['ratio'] < 5]\n",
    "filtered.dropna(inplace=True)\n",
    "\n",
    "filtered['Ratio'] = filtered['ratio']\n",
    "filtered['Annotator'] = filtered['annotator']\n",
    "\n",
    "fig = px.violin(\n",
    "    filtered,\n",
    "    y=\"Ratio\",\n",
    "    x=\"Annotator\",\n",
    "    box=True,  # draw box plot inside the violin\n",
    "    points=\"all\",  # can be 'outliers', or False\n",
    "    color=\"Annotator\",\n",
    "    template=\"ggplot2\",\n",
    ")\n",
    "fig = add_p_value_annotation(fig, [[0,1], [1,2], [1,3], [1, 4]], stats_test=stats.mannwhitneyu)\n",
    "\n",
    "# Increase top margin to make room for the title\n",
    "fig.update_layout(margin=dict(t=115))\n",
    "fig.show()"
   ]
  },
  {
   "cell_type": "code",
   "execution_count": 90,
   "id": "105319d1",
   "metadata": {},
   "outputs": [
    {
     "name": "stderr",
     "output_type": "stream",
     "text": [
      "C:\\Users\\cleme\\AppData\\Local\\Temp\\ipykernel_23508\\3696768396.py:3: SettingWithCopyWarning:\n",
      "\n",
      "\n",
      "A value is trying to be set on a copy of a slice from a DataFrame\n",
      "\n",
      "See the caveats in the documentation: https://pandas.pydata.org/pandas-docs/stable/user_guide/indexing.html#returning-a-view-versus-a-copy\n",
      "\n",
      "C:\\Users\\cleme\\AppData\\Local\\Temp\\ipykernel_23508\\3696768396.py:4: SettingWithCopyWarning:\n",
      "\n",
      "\n",
      "A value is trying to be set on a copy of a slice from a DataFrame.\n",
      "Try using .loc[row_indexer,col_indexer] = value instead\n",
      "\n",
      "See the caveats in the documentation: https://pandas.pydata.org/pandas-docs/stable/user_guide/indexing.html#returning-a-view-versus-a-copy\n",
      "\n",
      "C:\\Users\\cleme\\AppData\\Local\\Temp\\ipykernel_23508\\3696768396.py:5: SettingWithCopyWarning:\n",
      "\n",
      "\n",
      "A value is trying to be set on a copy of a slice from a DataFrame.\n",
      "Try using .loc[row_indexer,col_indexer] = value instead\n",
      "\n",
      "See the caveats in the documentation: https://pandas.pydata.org/pandas-docs/stable/user_guide/indexing.html#returning-a-view-versus-a-copy\n",
      "\n",
      "C:\\Users\\cleme\\AppData\\Local\\Temp\\ipykernel_23508\\3696768396.py:6: SettingWithCopyWarning:\n",
      "\n",
      "\n",
      "A value is trying to be set on a copy of a slice from a DataFrame.\n",
      "Try using .loc[row_indexer,col_indexer] = value instead\n",
      "\n",
      "See the caveats in the documentation: https://pandas.pydata.org/pandas-docs/stable/user_guide/indexing.html#returning-a-view-versus-a-copy\n",
      "\n"
     ]
    },
    {
     "data": {
      "application/vnd.plotly.v1+json": {
       "config": {
        "plotlyServerURL": "https://plot.ly"
       },
       "data": [
        {
         "alignmentgroup": "True",
         "boxpoints": false,
         "hovertemplate": "Type=siMMS22L_+dox-01<br>Annotator=%{x}<br>Ratio=%{y}<extra></extra>",
         "legendgroup": "siMMS22L_+dox-01",
         "marker": {
          "color": "#dc8a78"
         },
         "name": "siMMS22L_+dox-01",
         "notched": false,
         "offsetgroup": "siMMS22L_+dox-01",
         "orientation": "v",
         "showlegend": true,
         "type": "box",
         "x": [
          "S",
          "S",
          "S",
          "S",
          "S",
          "H",
          "H",
          "H",
          "H",
          "H",
          "H",
          "H",
          "H",
          "Y",
          "Y",
          "Y",
          "Y",
          "Y",
          "C",
          "C",
          "C",
          "C",
          "C",
          "IA"
         ],
         "x0": " ",
         "xaxis": "x",
         "y": [
          0.6666666666661499,
          0.879999999999296,
          0.5526315789459141,
          0.30769230769196954,
          0.5769230769219674,
          0.6616541353378484,
          0.983050847456794,
          0.2857142857137026,
          0.41860465116230394,
          0.21428571428549562,
          0.46067415730285316,
          0.5555555555545267,
          0.37179487179439513,
          1.0614035087709988,
          0.3777777777769383,
          0.3617021276588049,
          0.30337078651651306,
          0.449438202246686,
          0.8032786885239317,
          0.3571428571420068,
          0.2608695652168242,
          0.3146067415726802,
          0.12037037037025891,
          0.40476190476094104
         ],
         "y0": " ",
         "yaxis": "y"
        },
        {
         "alignmentgroup": "True",
         "boxpoints": false,
         "hovertemplate": "Type=siBRCA2+SMARCAL KO-04<br>Annotator=%{x}<br>Ratio=%{y}<extra></extra>",
         "legendgroup": "siBRCA2+SMARCAL KO-04",
         "marker": {
          "color": "#dd7878"
         },
         "name": "siBRCA2+SMARCAL KO-04",
         "notched": false,
         "offsetgroup": "siBRCA2+SMARCAL KO-04",
         "orientation": "v",
         "showlegend": true,
         "type": "box",
         "x": [
          "S",
          "S",
          "H",
          "H",
          "H",
          "H",
          "Y",
          "Y",
          "Y",
          "Y",
          "C",
          "IA",
          "IA",
          "IA",
          "IA",
          "IA",
          "IA",
          "IA"
         ],
         "x0": " ",
         "xaxis": "x",
         "y": [
          0.6410256410248192,
          0.399999999999,
          0.13636363636301654,
          0.649350649349806,
          1.1923076923031066,
          0.5348837209289886,
          0.6753246753237983,
          0.35897435897389873,
          0.7499999999988282,
          0.6764705882342993,
          0.6578947368412396,
          0.7916666666655671,
          1.205128205125115,
          3.899999999961,
          1.0344827586171226,
          1.4999999999955882,
          0.7567567567547114,
          0.7599999999969601
         ],
         "y0": " ",
         "yaxis": "y"
        },
        {
         "alignmentgroup": "True",
         "boxpoints": false,
         "hovertemplate": "Type=HLTF ko+si MMS22L-01<br>Annotator=%{x}<br>Ratio=%{y}<extra></extra>",
         "legendgroup": "HLTF ko+si MMS22L-01",
         "marker": {
          "color": "#ea76cb"
         },
         "name": "HLTF ko+si MMS22L-01",
         "notched": false,
         "offsetgroup": "HLTF ko+si MMS22L-01",
         "orientation": "v",
         "showlegend": true,
         "type": "box",
         "x": [
          "S",
          "S",
          "S",
          "S",
          "S",
          "S",
          "S",
          "S",
          "S",
          "S",
          "S",
          "S",
          "S",
          "S",
          "S",
          "S",
          "S",
          "S",
          "S",
          "H",
          "H",
          "H",
          "H",
          "H",
          "H",
          "H",
          "H",
          "H",
          "H",
          "H",
          "H",
          "H",
          "H",
          "H",
          "H",
          "H",
          "H",
          "H",
          "H",
          "H",
          "H",
          "H",
          "H",
          "H",
          "H",
          "H",
          "H",
          "H",
          "H",
          "H",
          "H",
          "H",
          "H",
          "H",
          "Y",
          "Y",
          "Y",
          "Y",
          "Y",
          "Y",
          "Y",
          "Y",
          "Y",
          "Y",
          "Y",
          "Y",
          "Y",
          "Y",
          "Y",
          "Y",
          "Y",
          "Y",
          "C",
          "C",
          "C",
          "C",
          "C",
          "C",
          "C",
          "C",
          "C",
          "C",
          "C",
          "C",
          "C",
          "C",
          "IA",
          "IA",
          "IA",
          "IA",
          "IA",
          "IA",
          "IA",
          "IA",
          "IA",
          "IA",
          "IA",
          "IA",
          "IA",
          "IA",
          "IA",
          "IA",
          "IA",
          "IA",
          "IA",
          "IA",
          "IA",
          "IA",
          "IA"
         ],
         "x0": " ",
         "xaxis": "x",
         "y": [
          0.9473684210501384,
          0.9642857142822705,
          0.695652173910019,
          0.5999999999976,
          0.7631578947348338,
          0.7575757575734618,
          0.6086956521725898,
          0.31428571428481633,
          0.517241379309453,
          0.7333333333308889,
          0.34210526315699447,
          0.34285714285616326,
          0.8888888888864197,
          0.87999999999648,
          1.1111111111049383,
          0.9428571428544489,
          0.33333333333222226,
          0.999999999996154,
          0.8636363636324381,
          0.7666666666641112,
          0.599999999996,
          0.695652173910019,
          0.7272727272694215,
          0.40624999999873046,
          0.6249999999984375,
          0.44999999999887497,
          0.7560975609737656,
          0.9999999999956523,
          0.5111111111099753,
          0.5609756097547293,
          1.2758620689611178,
          0.4736842105250692,
          0.6097560975594883,
          0.5675675675660335,
          0.18181818181794568,
          0.6774193548365245,
          0.6341463414618679,
          0.5135135135121256,
          0.6739130434767958,
          0.4242424242411386,
          0.7333333333308889,
          0.515151515149954,
          0.4333333333318889,
          0.4285714285702041,
          1.2499999999921876,
          0.35294117646955014,
          0.914285714283102,
          0.9199999999963201,
          1.1666666666601853,
          0.9696969696940312,
          0.3333333333311111,
          0.36666666666544445,
          0.9999999999958334,
          0.8571428571387756,
          0.6969696969675849,
          0.6086956521725898,
          1.5185185185128944,
          0.399999999999,
          0.636363636361708,
          0.7749999999980625,
          0.5249999999986875,
          0.7499999999973215,
          0.3870967741922997,
          0.3783783783773557,
          1.2352941176397925,
          0.6206896551702735,
          0.9166666666641203,
          0.8928571428539541,
          0.9166666666641203,
          0.3793103448262783,
          0.9230769230733729,
          0.8695652173875237,
          0.6521739130406428,
          0.722222222220216,
          0.7714285714263673,
          0.5454545454533057,
          0.8787878787852157,
          1.535714285708801,
          0.6749999999983125,
          0.7241379310319858,
          0.34210526315699447,
          1.4285714285612245,
          0.35294117646955014,
          0.689655172411415,
          1.124999999992969,
          1.0967741935448492,
          1.4999999999906253,
          0.9333333333302223,
          0.6341463414618679,
          0.5277777777763117,
          1.030303030299908,
          0.8684210526292936,
          0.6666666666646465,
          0.6976744186030286,
          1.6666666666481482,
          0.7948717948697567,
          1.2352941176397925,
          0.4999999999977273,
          1.8181818181652893,
          0.576923076920858,
          0.9459459459433893,
          1.0833333333288195,
          0.06818181818166322,
          0.8888888888855968,
          0.48571428571289793,
          1.3749999999914064,
          0.4374999999986328,
          1.4137931034434008,
          4.166666666597222
         ],
         "y0": " ",
         "yaxis": "y"
        },
        {
         "alignmentgroup": "True",
         "boxpoints": false,
         "hovertemplate": "Type=siBRCA2+SMARCAL KO-03<br>Annotator=%{x}<br>Ratio=%{y}<extra></extra>",
         "legendgroup": "siBRCA2+SMARCAL KO-03",
         "marker": {
          "color": "#8839ef"
         },
         "name": "siBRCA2+SMARCAL KO-03",
         "notched": false,
         "offsetgroup": "siBRCA2+SMARCAL KO-03",
         "orientation": "v",
         "showlegend": true,
         "type": "box",
         "x": [
          "S",
          "S",
          "S",
          "S",
          "S",
          "S",
          "S",
          "H",
          "H",
          "H",
          "H",
          "H",
          "Y",
          "Y",
          "Y",
          "Y",
          "Y",
          "C",
          "C",
          "C",
          "C",
          "C",
          "C",
          "C",
          "IA",
          "IA",
          "IA",
          "IA",
          "IA",
          "IA",
          "IA",
          "IA",
          "IA",
          "IA",
          "IA"
         ],
         "x0": " ",
         "xaxis": "x",
         "y": [
          1.2031249999981202,
          0.42857142857091834,
          0.6296296296288523,
          0.44186046511576527,
          0.4999999999988095,
          0.5813953488365332,
          0.4999999999992424,
          1.2307692307673372,
          0.30666666666625775,
          0.6624999999991719,
          0.4301075268812579,
          0.4705882352934256,
          0.36619718309807575,
          0.6292134831453604,
          0.4999999999993902,
          0.6341463414626413,
          0.3943661971825431,
          0.9350649350637207,
          0.3239436619713747,
          0.5977011494246003,
          0.42045454545406763,
          0.6486486486468955,
          0.5454545454539256,
          0.44927536231818943,
          0.9230769230751479,
          1.2295081967192958,
          0.3544303797463868,
          0.4999999999992424,
          0.43902439024336704,
          0.7321428571415497,
          0.7499999999979167,
          0.5333333333321482,
          0.516853932583689,
          0.6949152542361103,
          0.49253731343210067
         ],
         "y0": " ",
         "yaxis": "y"
        },
        {
         "alignmentgroup": "True",
         "boxpoints": false,
         "hovertemplate": "Type=siTONSL-03<br>Annotator=%{x}<br>Ratio=%{y}<extra></extra>",
         "legendgroup": "siTONSL-03",
         "marker": {
          "color": "#d20f39"
         },
         "name": "siTONSL-03",
         "notched": false,
         "offsetgroup": "siTONSL-03",
         "orientation": "v",
         "showlegend": true,
         "type": "box",
         "x": [
          "S",
          "S",
          "S",
          "S",
          "S",
          "H",
          "H",
          "H",
          "H",
          "Y",
          "Y",
          "Y",
          "Y",
          "Y",
          "C",
          "C",
          "C",
          "C",
          "IA",
          "IA",
          "IA",
          "IA"
         ],
         "x0": " ",
         "xaxis": "x",
         "y": [
          0.6307692307682603,
          1.097560975607079,
          1.216216216212929,
          1.2173913043451796,
          0.7073170731690065,
          1.097560975607079,
          1.3124999999979492,
          1.1891891891859752,
          1.2553191489334992,
          1.380281690138901,
          0.9999999999977778,
          1.210526315786288,
          1.3409090909060433,
          1.7818181818149421,
          0.8863636363616219,
          1.1578947368390582,
          1.3181818181788223,
          0.682926829266627,
          1.1190476190449545,
          1.263157894733518,
          2.899999999971,
          1.2499999999973959
         ],
         "y0": " ",
         "yaxis": "y"
        },
        {
         "alignmentgroup": "True",
         "boxpoints": false,
         "hovertemplate": "Type=siMMS22L_+dox-02<br>Annotator=%{x}<br>Ratio=%{y}<extra></extra>",
         "legendgroup": "siMMS22L_+dox-02",
         "marker": {
          "color": "#e64553"
         },
         "name": "siMMS22L_+dox-02",
         "notched": false,
         "offsetgroup": "siMMS22L_+dox-02",
         "orientation": "v",
         "showlegend": true,
         "type": "box",
         "x": [
          "S",
          "S",
          "H",
          "H",
          "Y",
          "Y",
          "Y",
          "C",
          "C",
          "C",
          "C",
          "IA",
          "IA",
          "IA",
          "IA"
         ],
         "x0": " ",
         "xaxis": "x",
         "y": [
          0.3414634146333135,
          0.3770491803272507,
          0.30952380952307257,
          0.39999999999933333,
          0.5512820512813444,
          0.21276595744635582,
          0.4166666666659722,
          0.18072289156604732,
          0.592592592591861,
          0.27272727272665287,
          0.4067796610162597,
          1.2499999999960938,
          1.116279069764846,
          0.2340425531909914,
          0.42622950819602257
         ],
         "y0": " ",
         "yaxis": "y"
        },
        {
         "alignmentgroup": "True",
         "boxpoints": false,
         "hovertemplate": "Type=siB+M-04<br>Annotator=%{x}<br>Ratio=%{y}<extra></extra>",
         "legendgroup": "siB+M-04",
         "marker": {
          "color": "#fe640b"
         },
         "name": "siB+M-04",
         "notched": false,
         "offsetgroup": "siB+M-04",
         "orientation": "v",
         "showlegend": true,
         "type": "box",
         "x": [
          "S",
          "S",
          "S",
          "S",
          "S",
          "S",
          "S",
          "S",
          "S",
          "S",
          "S",
          "S",
          "H",
          "H",
          "H",
          "H",
          "H",
          "H",
          "H",
          "H",
          "H",
          "H",
          "H",
          "H",
          "H",
          "H",
          "H",
          "H",
          "H",
          "H",
          "H",
          "Y",
          "Y",
          "Y",
          "Y",
          "Y",
          "Y",
          "Y",
          "Y",
          "Y",
          "Y",
          "Y",
          "C",
          "C",
          "C",
          "C",
          "C",
          "C",
          "C",
          "C",
          "C",
          "C",
          "IA",
          "IA",
          "IA",
          "IA",
          "IA",
          "IA"
         ],
         "x0": " ",
         "xaxis": "x",
         "y": [
          0.39130434782438567,
          0.9615384615347634,
          1.1249999999953126,
          0.9166666666628472,
          0.74999999999375,
          1.3181818181758265,
          1.1578947368360113,
          1.4374999999910159,
          0.6176470588217128,
          1.2399999999950402,
          0.3333333333319445,
          0.5862068965497028,
          0.478260869563138,
          1.1999999999952,
          0.9629629629593965,
          0.7037037037010975,
          0.8055555555533178,
          0.999999999990909,
          1.3529411764626298,
          1.6315789473598339,
          2.222222222197531,
          1.4705882352854673,
          1.3571428571331632,
          0.6060606060587694,
          1.0416666666623264,
          0.7714285714263673,
          0.6666666666634922,
          0.8260869565181476,
          0.5652173913018904,
          0.9473684210476455,
          0.9999999999950001,
          0.5454545454520662,
          1.2083333333282986,
          0.9615384615347634,
          0.8888888888855968,
          0.9230769230698225,
          1.3181818181758265,
          1.4117647058740486,
          0.7187499999977539,
          1.5499999999922502,
          0.8888888888839507,
          1.09523809523288,
          0.599999999997,
          0.9999999999960001,
          0.9230769230733729,
          0.6923076923050296,
          0.9090909090826447,
          1.1176470588169551,
          1.3181818181758265,
          0.7096774193525495,
          1.4499999999927502,
          0.9166666666628472,
          0.3999999999984,
          9.499999999525,
          1.9999999999857143,
          0.5142857142842449,
          1.5238095238022678,
          0.9032258064486993
         ],
         "y0": " ",
         "yaxis": "y"
        },
        {
         "alignmentgroup": "True",
         "boxpoints": false,
         "hovertemplate": "Type=siBRCA2-02<br>Annotator=%{x}<br>Ratio=%{y}<extra></extra>",
         "legendgroup": "siBRCA2-02",
         "marker": {
          "color": "#df8e1d"
         },
         "name": "siBRCA2-02",
         "notched": false,
         "offsetgroup": "siBRCA2-02",
         "orientation": "v",
         "showlegend": true,
         "type": "box",
         "x": [
          "S",
          "S",
          "S",
          "S",
          "H",
          "H",
          "H",
          "H",
          "H",
          "H",
          "Y",
          "Y",
          "Y",
          "Y",
          "Y",
          "Y",
          "C",
          "C",
          "C",
          "IA",
          "IA",
          "IA",
          "IA",
          "IA"
         ],
         "x0": " ",
         "xaxis": "x",
         "y": [
          0.8913043478241494,
          0.5121951219499702,
          0.5294117647043253,
          1.1935483870929242,
          0.8863636363616219,
          0.7297297297277574,
          0.5937499999981445,
          1.107142857138903,
          1.0999999999963335,
          0.95999999999616,
          0.8936170212746944,
          0.7368421052612188,
          0.49999999999843747,
          1.230769230764497,
          1.1333333333295557,
          1.1199999999955201,
          0.7333333333317037,
          0.6486486486468955,
          0.6206896551702735,
          0.8666666666647407,
          0.7567567567547114,
          0.6451612903204995,
          1.2999999999956668,
          0.9666666666634445
         ],
         "y0": " ",
         "yaxis": "y"
        },
        {
         "alignmentgroup": "True",
         "boxpoints": false,
         "hovertemplate": "Type=siNT-02<br>Annotator=%{x}<br>Ratio=%{y}<extra></extra>",
         "legendgroup": "siNT-02",
         "marker": {
          "color": "#40a02b"
         },
         "name": "siNT-02",
         "notched": false,
         "offsetgroup": "siNT-02",
         "orientation": "v",
         "showlegend": true,
         "type": "box",
         "x": [
          "S",
          "S",
          "S",
          "S",
          "H",
          "H",
          "H",
          "H",
          "H",
          "H",
          "H",
          "H",
          "H",
          "H",
          "Y",
          "Y",
          "Y",
          "Y",
          "Y",
          "Y",
          "Y",
          "Y",
          "C",
          "C",
          "C",
          "C",
          "IA",
          "IA",
          "IA",
          "IA",
          "IA",
          "IA",
          "IA",
          "IA"
         ],
         "x0": " ",
         "xaxis": "x",
         "y": [
          0.5999999999990769,
          0.5757575757567034,
          0.3249999999995937,
          0.7812499999987793,
          0.5967741935474246,
          0.6086956521730309,
          0.8846153846136834,
          0.27142857142818366,
          0.5156249999991943,
          0.333333333332906,
          0.6346153846141642,
          0.614035087718221,
          0.40277777777721835,
          0.4428571428565102,
          0.6515151515141644,
          0.5441176470580233,
          0.3499999999995625,
          0.8275862068951249,
          0.9772727272705062,
          0.6727272727260496,
          0.5312499999991699,
          0.5138888888881752,
          0.5652173913035287,
          0.5384615384607101,
          0.324675324674903,
          0.5084745762703246,
          0.4428571428565102,
          0.7916666666650173,
          0.7656249999988037,
          0.7037037037024005,
          0.9999999999965518,
          0.4857142857135918,
          0.6417910447751615,
          0.17391304347750475
         ],
         "y0": " ",
         "yaxis": "y"
        },
        {
         "alignmentgroup": "True",
         "boxpoints": false,
         "hovertemplate": "Type=siBRCA2-03<br>Annotator=%{x}<br>Ratio=%{y}<extra></extra>",
         "legendgroup": "siBRCA2-03",
         "marker": {
          "color": "#179299"
         },
         "name": "siBRCA2-03",
         "notched": false,
         "offsetgroup": "siBRCA2-03",
         "orientation": "v",
         "showlegend": true,
         "type": "box",
         "x": [
          "S",
          "S",
          "S",
          "S",
          "S",
          "H",
          "H",
          "H",
          "H",
          "H",
          "H",
          "H",
          "H",
          "H",
          "H",
          "H",
          "Y",
          "Y",
          "Y",
          "Y",
          "Y",
          "Y",
          "C",
          "C",
          "IA",
          "IA",
          "IA",
          "IA"
         ],
         "x0": " ",
         "xaxis": "x",
         "y": [
          0.33333333333055554,
          1.6874999999894533,
          0.6842105263121885,
          0.8378378378355734,
          0.7999999999982222,
          0.37037037036899867,
          0.42105263157783934,
          1.5882352941083047,
          0.7368421052592798,
          0.8205128205107166,
          1.0243902438999404,
          0.6122448979579341,
          0.7777777777756173,
          0.799999999992,
          0.7272727272705234,
          0.16279069767404,
          0.5142857142842449,
          1.9374999999878908,
          0.799999999998,
          0.764705882350692,
          0.931818181816064,
          0.5483870967724246,
          0.5806451612884496,
          0.5161290322563996,
          1.1562499999963867,
          0.4054054054043097,
          0.5333333333315556,
          0.9583333333293403
         ],
         "y0": " ",
         "yaxis": "y"
        },
        {
         "alignmentgroup": "True",
         "boxpoints": false,
         "hovertemplate": "Type=59_siBRCA2-02<br>Annotator=%{x}<br>Ratio=%{y}<extra></extra>",
         "legendgroup": "59_siBRCA2-02",
         "marker": {
          "color": "#04a5e5"
         },
         "name": "59_siBRCA2-02",
         "notched": false,
         "offsetgroup": "59_siBRCA2-02",
         "orientation": "v",
         "showlegend": true,
         "type": "box",
         "x": [
          "S",
          "S",
          "H",
          "H",
          "Y",
          "C",
          "C",
          "C",
          "C"
         ],
         "x0": " ",
         "xaxis": "x",
         "y": [
          0.6551724137908442,
          1.047619047614059,
          0.5599999999977601,
          0.6666666666592592,
          1.09523809523288,
          0.28571428571346935,
          0.45945945945821765,
          0.7804878048761451,
          1.1578947368360113
         ],
         "y0": " ",
         "yaxis": "y"
        },
        {
         "alignmentgroup": "True",
         "boxpoints": false,
         "hovertemplate": "Type=siBRCA2-01<br>Annotator=%{x}<br>Ratio=%{y}<extra></extra>",
         "legendgroup": "siBRCA2-01",
         "marker": {
          "color": "#209fb5"
         },
         "name": "siBRCA2-01",
         "notched": false,
         "offsetgroup": "siBRCA2-01",
         "orientation": "v",
         "showlegend": true,
         "type": "box",
         "x": [
          "H",
          "H",
          "H",
          "Y",
          "Y",
          "IA"
         ],
         "x0": " ",
         "xaxis": "x",
         "y": [
          0.7333333333284444,
          0.6172839506165219,
          0.9782608695630907,
          0.6962025316446884,
          0.93478260869362,
          1.0454545454521693
         ],
         "y0": " ",
         "yaxis": "y"
        }
       ],
       "layout": {
        "boxmode": "group",
        "legend": {
         "title": {
          "text": "Type"
         },
         "tracegroupgap": 0
        },
        "margin": {
         "t": 75
        },
        "template": {
         "data": {
          "bar": [
           {
            "error_x": {
             "color": "rgb(51,51,51)"
            },
            "error_y": {
             "color": "rgb(51,51,51)"
            },
            "marker": {
             "line": {
              "color": "rgb(237,237,237)",
              "width": 0.5
             },
             "pattern": {
              "fillmode": "overlay",
              "size": 10,
              "solidity": 0.2
             }
            },
            "type": "bar"
           }
          ],
          "barpolar": [
           {
            "marker": {
             "line": {
              "color": "rgb(237,237,237)",
              "width": 0.5
             },
             "pattern": {
              "fillmode": "overlay",
              "size": 10,
              "solidity": 0.2
             }
            },
            "type": "barpolar"
           }
          ],
          "carpet": [
           {
            "aaxis": {
             "endlinecolor": "rgb(51,51,51)",
             "gridcolor": "white",
             "linecolor": "white",
             "minorgridcolor": "white",
             "startlinecolor": "rgb(51,51,51)"
            },
            "baxis": {
             "endlinecolor": "rgb(51,51,51)",
             "gridcolor": "white",
             "linecolor": "white",
             "minorgridcolor": "white",
             "startlinecolor": "rgb(51,51,51)"
            },
            "type": "carpet"
           }
          ],
          "choropleth": [
           {
            "colorbar": {
             "outlinewidth": 0,
             "tickcolor": "rgb(237,237,237)",
             "ticklen": 6,
             "ticks": "inside"
            },
            "type": "choropleth"
           }
          ],
          "contour": [
           {
            "colorbar": {
             "outlinewidth": 0,
             "tickcolor": "rgb(237,237,237)",
             "ticklen": 6,
             "ticks": "inside"
            },
            "colorscale": [
             [
              0,
              "rgb(20,44,66)"
             ],
             [
              1,
              "rgb(90,179,244)"
             ]
            ],
            "type": "contour"
           }
          ],
          "contourcarpet": [
           {
            "colorbar": {
             "outlinewidth": 0,
             "tickcolor": "rgb(237,237,237)",
             "ticklen": 6,
             "ticks": "inside"
            },
            "type": "contourcarpet"
           }
          ],
          "heatmap": [
           {
            "colorbar": {
             "outlinewidth": 0,
             "tickcolor": "rgb(237,237,237)",
             "ticklen": 6,
             "ticks": "inside"
            },
            "colorscale": [
             [
              0,
              "rgb(20,44,66)"
             ],
             [
              1,
              "rgb(90,179,244)"
             ]
            ],
            "type": "heatmap"
           }
          ],
          "heatmapgl": [
           {
            "colorbar": {
             "outlinewidth": 0,
             "tickcolor": "rgb(237,237,237)",
             "ticklen": 6,
             "ticks": "inside"
            },
            "colorscale": [
             [
              0,
              "rgb(20,44,66)"
             ],
             [
              1,
              "rgb(90,179,244)"
             ]
            ],
            "type": "heatmapgl"
           }
          ],
          "histogram": [
           {
            "marker": {
             "pattern": {
              "fillmode": "overlay",
              "size": 10,
              "solidity": 0.2
             }
            },
            "type": "histogram"
           }
          ],
          "histogram2d": [
           {
            "colorbar": {
             "outlinewidth": 0,
             "tickcolor": "rgb(237,237,237)",
             "ticklen": 6,
             "ticks": "inside"
            },
            "colorscale": [
             [
              0,
              "rgb(20,44,66)"
             ],
             [
              1,
              "rgb(90,179,244)"
             ]
            ],
            "type": "histogram2d"
           }
          ],
          "histogram2dcontour": [
           {
            "colorbar": {
             "outlinewidth": 0,
             "tickcolor": "rgb(237,237,237)",
             "ticklen": 6,
             "ticks": "inside"
            },
            "colorscale": [
             [
              0,
              "rgb(20,44,66)"
             ],
             [
              1,
              "rgb(90,179,244)"
             ]
            ],
            "type": "histogram2dcontour"
           }
          ],
          "mesh3d": [
           {
            "colorbar": {
             "outlinewidth": 0,
             "tickcolor": "rgb(237,237,237)",
             "ticklen": 6,
             "ticks": "inside"
            },
            "type": "mesh3d"
           }
          ],
          "parcoords": [
           {
            "line": {
             "colorbar": {
              "outlinewidth": 0,
              "tickcolor": "rgb(237,237,237)",
              "ticklen": 6,
              "ticks": "inside"
             }
            },
            "type": "parcoords"
           }
          ],
          "pie": [
           {
            "automargin": true,
            "type": "pie"
           }
          ],
          "scatter": [
           {
            "fillpattern": {
             "fillmode": "overlay",
             "size": 10,
             "solidity": 0.2
            },
            "type": "scatter"
           }
          ],
          "scatter3d": [
           {
            "line": {
             "colorbar": {
              "outlinewidth": 0,
              "tickcolor": "rgb(237,237,237)",
              "ticklen": 6,
              "ticks": "inside"
             }
            },
            "marker": {
             "colorbar": {
              "outlinewidth": 0,
              "tickcolor": "rgb(237,237,237)",
              "ticklen": 6,
              "ticks": "inside"
             }
            },
            "type": "scatter3d"
           }
          ],
          "scattercarpet": [
           {
            "marker": {
             "colorbar": {
              "outlinewidth": 0,
              "tickcolor": "rgb(237,237,237)",
              "ticklen": 6,
              "ticks": "inside"
             }
            },
            "type": "scattercarpet"
           }
          ],
          "scattergeo": [
           {
            "marker": {
             "colorbar": {
              "outlinewidth": 0,
              "tickcolor": "rgb(237,237,237)",
              "ticklen": 6,
              "ticks": "inside"
             }
            },
            "type": "scattergeo"
           }
          ],
          "scattergl": [
           {
            "marker": {
             "colorbar": {
              "outlinewidth": 0,
              "tickcolor": "rgb(237,237,237)",
              "ticklen": 6,
              "ticks": "inside"
             }
            },
            "type": "scattergl"
           }
          ],
          "scattermapbox": [
           {
            "marker": {
             "colorbar": {
              "outlinewidth": 0,
              "tickcolor": "rgb(237,237,237)",
              "ticklen": 6,
              "ticks": "inside"
             }
            },
            "type": "scattermapbox"
           }
          ],
          "scatterpolar": [
           {
            "marker": {
             "colorbar": {
              "outlinewidth": 0,
              "tickcolor": "rgb(237,237,237)",
              "ticklen": 6,
              "ticks": "inside"
             }
            },
            "type": "scatterpolar"
           }
          ],
          "scatterpolargl": [
           {
            "marker": {
             "colorbar": {
              "outlinewidth": 0,
              "tickcolor": "rgb(237,237,237)",
              "ticklen": 6,
              "ticks": "inside"
             }
            },
            "type": "scatterpolargl"
           }
          ],
          "scatterternary": [
           {
            "marker": {
             "colorbar": {
              "outlinewidth": 0,
              "tickcolor": "rgb(237,237,237)",
              "ticklen": 6,
              "ticks": "inside"
             }
            },
            "type": "scatterternary"
           }
          ],
          "surface": [
           {
            "colorbar": {
             "outlinewidth": 0,
             "tickcolor": "rgb(237,237,237)",
             "ticklen": 6,
             "ticks": "inside"
            },
            "colorscale": [
             [
              0,
              "rgb(20,44,66)"
             ],
             [
              1,
              "rgb(90,179,244)"
             ]
            ],
            "type": "surface"
           }
          ],
          "table": [
           {
            "cells": {
             "fill": {
              "color": "rgb(237,237,237)"
             },
             "line": {
              "color": "white"
             }
            },
            "header": {
             "fill": {
              "color": "rgb(217,217,217)"
             },
             "line": {
              "color": "white"
             }
            },
            "type": "table"
           }
          ]
         },
         "layout": {
          "annotationdefaults": {
           "arrowhead": 0,
           "arrowwidth": 1
          },
          "autotypenumbers": "strict",
          "coloraxis": {
           "colorbar": {
            "outlinewidth": 0,
            "tickcolor": "rgb(237,237,237)",
            "ticklen": 6,
            "ticks": "inside"
           }
          },
          "colorscale": {
           "sequential": [
            [
             0,
             "rgb(20,44,66)"
            ],
            [
             1,
             "rgb(90,179,244)"
            ]
           ],
           "sequentialminus": [
            [
             0,
             "rgb(20,44,66)"
            ],
            [
             1,
             "rgb(90,179,244)"
            ]
           ]
          },
          "colorway": [
           "#F8766D",
           "#A3A500",
           "#00BF7D",
           "#00B0F6",
           "#E76BF3"
          ],
          "font": {
           "color": "rgb(51,51,51)"
          },
          "geo": {
           "bgcolor": "white",
           "lakecolor": "white",
           "landcolor": "rgb(237,237,237)",
           "showlakes": true,
           "showland": true,
           "subunitcolor": "white"
          },
          "hoverlabel": {
           "align": "left"
          },
          "hovermode": "closest",
          "paper_bgcolor": "white",
          "plot_bgcolor": "rgb(237,237,237)",
          "polar": {
           "angularaxis": {
            "gridcolor": "white",
            "linecolor": "white",
            "showgrid": true,
            "tickcolor": "rgb(51,51,51)",
            "ticks": "outside"
           },
           "bgcolor": "rgb(237,237,237)",
           "radialaxis": {
            "gridcolor": "white",
            "linecolor": "white",
            "showgrid": true,
            "tickcolor": "rgb(51,51,51)",
            "ticks": "outside"
           }
          },
          "scene": {
           "xaxis": {
            "backgroundcolor": "rgb(237,237,237)",
            "gridcolor": "white",
            "gridwidth": 2,
            "linecolor": "white",
            "showbackground": true,
            "showgrid": true,
            "tickcolor": "rgb(51,51,51)",
            "ticks": "outside",
            "zerolinecolor": "white"
           },
           "yaxis": {
            "backgroundcolor": "rgb(237,237,237)",
            "gridcolor": "white",
            "gridwidth": 2,
            "linecolor": "white",
            "showbackground": true,
            "showgrid": true,
            "tickcolor": "rgb(51,51,51)",
            "ticks": "outside",
            "zerolinecolor": "white"
           },
           "zaxis": {
            "backgroundcolor": "rgb(237,237,237)",
            "gridcolor": "white",
            "gridwidth": 2,
            "linecolor": "white",
            "showbackground": true,
            "showgrid": true,
            "tickcolor": "rgb(51,51,51)",
            "ticks": "outside",
            "zerolinecolor": "white"
           }
          },
          "shapedefaults": {
           "fillcolor": "black",
           "line": {
            "width": 0
           },
           "opacity": 0.3
          },
          "ternary": {
           "aaxis": {
            "gridcolor": "white",
            "linecolor": "white",
            "showgrid": true,
            "tickcolor": "rgb(51,51,51)",
            "ticks": "outside"
           },
           "baxis": {
            "gridcolor": "white",
            "linecolor": "white",
            "showgrid": true,
            "tickcolor": "rgb(51,51,51)",
            "ticks": "outside"
           },
           "bgcolor": "rgb(237,237,237)",
           "caxis": {
            "gridcolor": "white",
            "linecolor": "white",
            "showgrid": true,
            "tickcolor": "rgb(51,51,51)",
            "ticks": "outside"
           }
          },
          "xaxis": {
           "automargin": true,
           "gridcolor": "white",
           "linecolor": "white",
           "showgrid": true,
           "tickcolor": "rgb(51,51,51)",
           "ticks": "outside",
           "title": {
            "standoff": 15
           },
           "zerolinecolor": "white"
          },
          "yaxis": {
           "automargin": true,
           "gridcolor": "white",
           "linecolor": "white",
           "showgrid": true,
           "tickcolor": "rgb(51,51,51)",
           "ticks": "outside",
           "title": {
            "standoff": 15
           },
           "zerolinecolor": "white"
          }
         }
        },
        "xaxis": {
         "anchor": "y",
         "domain": [
          0,
          1
         ],
         "title": {
          "text": "Annotator"
         }
        },
        "yaxis": {
         "anchor": "x",
         "domain": [
          0,
          1
         ],
         "title": {
          "text": "Ratio"
         }
        }
       }
      }
     },
     "metadata": {},
     "output_type": "display_data"
    }
   ],
   "source": [
    "\n",
    "colors = [c.hex for c in catppuccin.PALETTE.latte.colors]\n",
    "filtered = df[(df.fiber_type == \"double\")]\n",
    "filtered.dropna(inplace=True)\n",
    "filtered['Ratio'] = filtered['ratio']\n",
    "filtered['Annotator'] = filtered['annotator']\n",
    "filtered['Type'] = filtered['image_type']\n",
    "fig = px.box(\n",
    "    filtered,\n",
    "    y=\"Ratio\",\n",
    "    x=\"Annotator\",\n",
    "    points=False,  # can be 'outliers', or False\n",
    "    color=\"Type\",\n",
    "    template=\"ggplot2\",\n",
    "    color_discrete_sequence=colors,)\n",
    "# fig = add_p_value_annotation(fig, [[0,1], [1,2], [1,3]], stats_test=stats.mannwhitneyu)\n",
    "\n",
    "# Increase top margin to make room for the title\n",
    "fig.update_layout(margin=dict(t=75))\n",
    "fig.show()"
   ]
  },
  {
   "cell_type": "code",
   "execution_count": 91,
   "id": "f028db69",
   "metadata": {},
   "outputs": [
    {
     "data": {
      "application/vnd.plotly.v1+json": {
       "config": {
        "plotlyServerURL": "https://plot.ly"
       },
       "data": [
        {
         "alignmentgroup": "True",
         "boxpoints": false,
         "hovertemplate": "Type=%{x}<br>Ratio=%{y}<extra></extra>",
         "legendgroup": "siMMS22L_+dox-01",
         "marker": {
          "color": "#dc8a78"
         },
         "name": "siMMS22L_+dox-01",
         "notched": false,
         "offsetgroup": "siMMS22L_+dox-01",
         "orientation": "v",
         "showlegend": true,
         "type": "box",
         "x": [
          "siMMS22L_+dox-01",
          "siMMS22L_+dox-01",
          "siMMS22L_+dox-01",
          "siMMS22L_+dox-01",
          "siMMS22L_+dox-01",
          "siMMS22L_+dox-01",
          "siMMS22L_+dox-01",
          "siMMS22L_+dox-01",
          "siMMS22L_+dox-01",
          "siMMS22L_+dox-01",
          "siMMS22L_+dox-01",
          "siMMS22L_+dox-01",
          "siMMS22L_+dox-01",
          "siMMS22L_+dox-01",
          "siMMS22L_+dox-01",
          "siMMS22L_+dox-01",
          "siMMS22L_+dox-01",
          "siMMS22L_+dox-01",
          "siMMS22L_+dox-01",
          "siMMS22L_+dox-01",
          "siMMS22L_+dox-01",
          "siMMS22L_+dox-01",
          "siMMS22L_+dox-01",
          "siMMS22L_+dox-01"
         ],
         "x0": " ",
         "xaxis": "x",
         "y": [
          0.6666666666661499,
          0.879999999999296,
          0.5526315789459141,
          0.30769230769196954,
          0.5769230769219674,
          0.6616541353378484,
          0.983050847456794,
          0.2857142857137026,
          0.41860465116230394,
          0.21428571428549562,
          0.46067415730285316,
          0.5555555555545267,
          0.37179487179439513,
          1.0614035087709988,
          0.3777777777769383,
          0.3617021276588049,
          0.30337078651651306,
          0.449438202246686,
          0.8032786885239317,
          0.3571428571420068,
          0.2608695652168242,
          0.3146067415726802,
          0.12037037037025891,
          0.40476190476094104
         ],
         "y0": " ",
         "yaxis": "y"
        },
        {
         "alignmentgroup": "True",
         "boxpoints": false,
         "hovertemplate": "Type=%{x}<br>Ratio=%{y}<extra></extra>",
         "legendgroup": "siBRCA2+SMARCAL KO-04",
         "marker": {
          "color": "#dd7878"
         },
         "name": "siBRCA2+SMARCAL KO-04",
         "notched": false,
         "offsetgroup": "siBRCA2+SMARCAL KO-04",
         "orientation": "v",
         "showlegend": true,
         "type": "box",
         "x": [
          "siBRCA2+SMARCAL KO-04",
          "siBRCA2+SMARCAL KO-04",
          "siBRCA2+SMARCAL KO-04",
          "siBRCA2+SMARCAL KO-04",
          "siBRCA2+SMARCAL KO-04",
          "siBRCA2+SMARCAL KO-04",
          "siBRCA2+SMARCAL KO-04",
          "siBRCA2+SMARCAL KO-04",
          "siBRCA2+SMARCAL KO-04",
          "siBRCA2+SMARCAL KO-04",
          "siBRCA2+SMARCAL KO-04",
          "siBRCA2+SMARCAL KO-04",
          "siBRCA2+SMARCAL KO-04",
          "siBRCA2+SMARCAL KO-04",
          "siBRCA2+SMARCAL KO-04",
          "siBRCA2+SMARCAL KO-04",
          "siBRCA2+SMARCAL KO-04",
          "siBRCA2+SMARCAL KO-04"
         ],
         "x0": " ",
         "xaxis": "x",
         "y": [
          0.6410256410248192,
          0.399999999999,
          0.13636363636301654,
          0.649350649349806,
          1.1923076923031066,
          0.5348837209289886,
          0.6753246753237983,
          0.35897435897389873,
          0.7499999999988282,
          0.6764705882342993,
          0.6578947368412396,
          0.7916666666655671,
          1.205128205125115,
          3.899999999961,
          1.0344827586171226,
          1.4999999999955882,
          0.7567567567547114,
          0.7599999999969601
         ],
         "y0": " ",
         "yaxis": "y"
        },
        {
         "alignmentgroup": "True",
         "boxpoints": false,
         "hovertemplate": "Type=%{x}<br>Ratio=%{y}<extra></extra>",
         "legendgroup": "HLTF ko+si MMS22L-01",
         "marker": {
          "color": "#ea76cb"
         },
         "name": "HLTF ko+si MMS22L-01",
         "notched": false,
         "offsetgroup": "HLTF ko+si MMS22L-01",
         "orientation": "v",
         "showlegend": true,
         "type": "box",
         "x": [
          "HLTF ko+si MMS22L-01",
          "HLTF ko+si MMS22L-01",
          "HLTF ko+si MMS22L-01",
          "HLTF ko+si MMS22L-01",
          "HLTF ko+si MMS22L-01",
          "HLTF ko+si MMS22L-01",
          "HLTF ko+si MMS22L-01",
          "HLTF ko+si MMS22L-01",
          "HLTF ko+si MMS22L-01",
          "HLTF ko+si MMS22L-01",
          "HLTF ko+si MMS22L-01",
          "HLTF ko+si MMS22L-01",
          "HLTF ko+si MMS22L-01",
          "HLTF ko+si MMS22L-01",
          "HLTF ko+si MMS22L-01",
          "HLTF ko+si MMS22L-01",
          "HLTF ko+si MMS22L-01",
          "HLTF ko+si MMS22L-01",
          "HLTF ko+si MMS22L-01",
          "HLTF ko+si MMS22L-01",
          "HLTF ko+si MMS22L-01",
          "HLTF ko+si MMS22L-01",
          "HLTF ko+si MMS22L-01",
          "HLTF ko+si MMS22L-01",
          "HLTF ko+si MMS22L-01",
          "HLTF ko+si MMS22L-01",
          "HLTF ko+si MMS22L-01",
          "HLTF ko+si MMS22L-01",
          "HLTF ko+si MMS22L-01",
          "HLTF ko+si MMS22L-01",
          "HLTF ko+si MMS22L-01",
          "HLTF ko+si MMS22L-01",
          "HLTF ko+si MMS22L-01",
          "HLTF ko+si MMS22L-01",
          "HLTF ko+si MMS22L-01",
          "HLTF ko+si MMS22L-01",
          "HLTF ko+si MMS22L-01",
          "HLTF ko+si MMS22L-01",
          "HLTF ko+si MMS22L-01",
          "HLTF ko+si MMS22L-01",
          "HLTF ko+si MMS22L-01",
          "HLTF ko+si MMS22L-01",
          "HLTF ko+si MMS22L-01",
          "HLTF ko+si MMS22L-01",
          "HLTF ko+si MMS22L-01",
          "HLTF ko+si MMS22L-01",
          "HLTF ko+si MMS22L-01",
          "HLTF ko+si MMS22L-01",
          "HLTF ko+si MMS22L-01",
          "HLTF ko+si MMS22L-01",
          "HLTF ko+si MMS22L-01",
          "HLTF ko+si MMS22L-01",
          "HLTF ko+si MMS22L-01",
          "HLTF ko+si MMS22L-01",
          "HLTF ko+si MMS22L-01",
          "HLTF ko+si MMS22L-01",
          "HLTF ko+si MMS22L-01",
          "HLTF ko+si MMS22L-01",
          "HLTF ko+si MMS22L-01",
          "HLTF ko+si MMS22L-01",
          "HLTF ko+si MMS22L-01",
          "HLTF ko+si MMS22L-01",
          "HLTF ko+si MMS22L-01",
          "HLTF ko+si MMS22L-01",
          "HLTF ko+si MMS22L-01",
          "HLTF ko+si MMS22L-01",
          "HLTF ko+si MMS22L-01",
          "HLTF ko+si MMS22L-01",
          "HLTF ko+si MMS22L-01",
          "HLTF ko+si MMS22L-01",
          "HLTF ko+si MMS22L-01",
          "HLTF ko+si MMS22L-01",
          "HLTF ko+si MMS22L-01",
          "HLTF ko+si MMS22L-01",
          "HLTF ko+si MMS22L-01",
          "HLTF ko+si MMS22L-01",
          "HLTF ko+si MMS22L-01",
          "HLTF ko+si MMS22L-01",
          "HLTF ko+si MMS22L-01",
          "HLTF ko+si MMS22L-01",
          "HLTF ko+si MMS22L-01",
          "HLTF ko+si MMS22L-01",
          "HLTF ko+si MMS22L-01",
          "HLTF ko+si MMS22L-01",
          "HLTF ko+si MMS22L-01",
          "HLTF ko+si MMS22L-01",
          "HLTF ko+si MMS22L-01",
          "HLTF ko+si MMS22L-01",
          "HLTF ko+si MMS22L-01",
          "HLTF ko+si MMS22L-01",
          "HLTF ko+si MMS22L-01",
          "HLTF ko+si MMS22L-01",
          "HLTF ko+si MMS22L-01",
          "HLTF ko+si MMS22L-01",
          "HLTF ko+si MMS22L-01",
          "HLTF ko+si MMS22L-01",
          "HLTF ko+si MMS22L-01",
          "HLTF ko+si MMS22L-01",
          "HLTF ko+si MMS22L-01",
          "HLTF ko+si MMS22L-01",
          "HLTF ko+si MMS22L-01",
          "HLTF ko+si MMS22L-01",
          "HLTF ko+si MMS22L-01",
          "HLTF ko+si MMS22L-01",
          "HLTF ko+si MMS22L-01",
          "HLTF ko+si MMS22L-01",
          "HLTF ko+si MMS22L-01",
          "HLTF ko+si MMS22L-01",
          "HLTF ko+si MMS22L-01"
         ],
         "x0": " ",
         "xaxis": "x",
         "y": [
          0.9473684210501384,
          0.9642857142822705,
          0.695652173910019,
          0.5999999999976,
          0.7631578947348338,
          0.7575757575734618,
          0.6086956521725898,
          0.31428571428481633,
          0.517241379309453,
          0.7333333333308889,
          0.34210526315699447,
          0.34285714285616326,
          0.8888888888864197,
          0.87999999999648,
          1.1111111111049383,
          0.9428571428544489,
          0.33333333333222226,
          0.999999999996154,
          0.8636363636324381,
          0.7666666666641112,
          0.599999999996,
          0.695652173910019,
          0.7272727272694215,
          0.40624999999873046,
          0.6249999999984375,
          0.44999999999887497,
          0.7560975609737656,
          0.9999999999956523,
          0.5111111111099753,
          0.5609756097547293,
          1.2758620689611178,
          0.4736842105250692,
          0.6097560975594883,
          0.5675675675660335,
          0.18181818181794568,
          0.6774193548365245,
          0.6341463414618679,
          0.5135135135121256,
          0.6739130434767958,
          0.4242424242411386,
          0.7333333333308889,
          0.515151515149954,
          0.4333333333318889,
          0.4285714285702041,
          1.2499999999921876,
          0.35294117646955014,
          0.914285714283102,
          0.9199999999963201,
          1.1666666666601853,
          0.9696969696940312,
          0.3333333333311111,
          0.36666666666544445,
          0.9999999999958334,
          0.8571428571387756,
          0.6969696969675849,
          0.6086956521725898,
          1.5185185185128944,
          0.399999999999,
          0.636363636361708,
          0.7749999999980625,
          0.5249999999986875,
          0.7499999999973215,
          0.3870967741922997,
          0.3783783783773557,
          1.2352941176397925,
          0.6206896551702735,
          0.9166666666641203,
          0.8928571428539541,
          0.9166666666641203,
          0.3793103448262783,
          0.9230769230733729,
          0.8695652173875237,
          0.6521739130406428,
          0.722222222220216,
          0.7714285714263673,
          0.5454545454533057,
          0.8787878787852157,
          1.535714285708801,
          0.6749999999983125,
          0.7241379310319858,
          0.34210526315699447,
          1.4285714285612245,
          0.35294117646955014,
          0.689655172411415,
          1.124999999992969,
          1.0967741935448492,
          1.4999999999906253,
          0.9333333333302223,
          0.6341463414618679,
          0.5277777777763117,
          1.030303030299908,
          0.8684210526292936,
          0.6666666666646465,
          0.6976744186030286,
          1.6666666666481482,
          0.7948717948697567,
          1.2352941176397925,
          0.4999999999977273,
          1.8181818181652893,
          0.576923076920858,
          0.9459459459433893,
          1.0833333333288195,
          0.06818181818166322,
          0.8888888888855968,
          0.48571428571289793,
          1.3749999999914064,
          0.4374999999986328,
          1.4137931034434008,
          4.166666666597222
         ],
         "y0": " ",
         "yaxis": "y"
        },
        {
         "alignmentgroup": "True",
         "boxpoints": false,
         "hovertemplate": "Type=%{x}<br>Ratio=%{y}<extra></extra>",
         "legendgroup": "siBRCA2+SMARCAL KO-03",
         "marker": {
          "color": "#8839ef"
         },
         "name": "siBRCA2+SMARCAL KO-03",
         "notched": false,
         "offsetgroup": "siBRCA2+SMARCAL KO-03",
         "orientation": "v",
         "showlegend": true,
         "type": "box",
         "x": [
          "siBRCA2+SMARCAL KO-03",
          "siBRCA2+SMARCAL KO-03",
          "siBRCA2+SMARCAL KO-03",
          "siBRCA2+SMARCAL KO-03",
          "siBRCA2+SMARCAL KO-03",
          "siBRCA2+SMARCAL KO-03",
          "siBRCA2+SMARCAL KO-03",
          "siBRCA2+SMARCAL KO-03",
          "siBRCA2+SMARCAL KO-03",
          "siBRCA2+SMARCAL KO-03",
          "siBRCA2+SMARCAL KO-03",
          "siBRCA2+SMARCAL KO-03",
          "siBRCA2+SMARCAL KO-03",
          "siBRCA2+SMARCAL KO-03",
          "siBRCA2+SMARCAL KO-03",
          "siBRCA2+SMARCAL KO-03",
          "siBRCA2+SMARCAL KO-03",
          "siBRCA2+SMARCAL KO-03",
          "siBRCA2+SMARCAL KO-03",
          "siBRCA2+SMARCAL KO-03",
          "siBRCA2+SMARCAL KO-03",
          "siBRCA2+SMARCAL KO-03",
          "siBRCA2+SMARCAL KO-03",
          "siBRCA2+SMARCAL KO-03",
          "siBRCA2+SMARCAL KO-03",
          "siBRCA2+SMARCAL KO-03",
          "siBRCA2+SMARCAL KO-03",
          "siBRCA2+SMARCAL KO-03",
          "siBRCA2+SMARCAL KO-03",
          "siBRCA2+SMARCAL KO-03",
          "siBRCA2+SMARCAL KO-03",
          "siBRCA2+SMARCAL KO-03",
          "siBRCA2+SMARCAL KO-03",
          "siBRCA2+SMARCAL KO-03",
          "siBRCA2+SMARCAL KO-03"
         ],
         "x0": " ",
         "xaxis": "x",
         "y": [
          1.2031249999981202,
          0.42857142857091834,
          0.6296296296288523,
          0.44186046511576527,
          0.4999999999988095,
          0.5813953488365332,
          0.4999999999992424,
          1.2307692307673372,
          0.30666666666625775,
          0.6624999999991719,
          0.4301075268812579,
          0.4705882352934256,
          0.36619718309807575,
          0.6292134831453604,
          0.4999999999993902,
          0.6341463414626413,
          0.3943661971825431,
          0.9350649350637207,
          0.3239436619713747,
          0.5977011494246003,
          0.42045454545406763,
          0.6486486486468955,
          0.5454545454539256,
          0.44927536231818943,
          0.9230769230751479,
          1.2295081967192958,
          0.3544303797463868,
          0.4999999999992424,
          0.43902439024336704,
          0.7321428571415497,
          0.7499999999979167,
          0.5333333333321482,
          0.516853932583689,
          0.6949152542361103,
          0.49253731343210067
         ],
         "y0": " ",
         "yaxis": "y"
        },
        {
         "alignmentgroup": "True",
         "boxpoints": false,
         "hovertemplate": "Type=%{x}<br>Ratio=%{y}<extra></extra>",
         "legendgroup": "siTONSL-03",
         "marker": {
          "color": "#d20f39"
         },
         "name": "siTONSL-03",
         "notched": false,
         "offsetgroup": "siTONSL-03",
         "orientation": "v",
         "showlegend": true,
         "type": "box",
         "x": [
          "siTONSL-03",
          "siTONSL-03",
          "siTONSL-03",
          "siTONSL-03",
          "siTONSL-03",
          "siTONSL-03",
          "siTONSL-03",
          "siTONSL-03",
          "siTONSL-03",
          "siTONSL-03",
          "siTONSL-03",
          "siTONSL-03",
          "siTONSL-03",
          "siTONSL-03",
          "siTONSL-03",
          "siTONSL-03",
          "siTONSL-03",
          "siTONSL-03",
          "siTONSL-03",
          "siTONSL-03",
          "siTONSL-03",
          "siTONSL-03"
         ],
         "x0": " ",
         "xaxis": "x",
         "y": [
          0.6307692307682603,
          1.097560975607079,
          1.216216216212929,
          1.2173913043451796,
          0.7073170731690065,
          1.097560975607079,
          1.3124999999979492,
          1.1891891891859752,
          1.2553191489334992,
          1.380281690138901,
          0.9999999999977778,
          1.210526315786288,
          1.3409090909060433,
          1.7818181818149421,
          0.8863636363616219,
          1.1578947368390582,
          1.3181818181788223,
          0.682926829266627,
          1.1190476190449545,
          1.263157894733518,
          2.899999999971,
          1.2499999999973959
         ],
         "y0": " ",
         "yaxis": "y"
        },
        {
         "alignmentgroup": "True",
         "boxpoints": false,
         "hovertemplate": "Type=%{x}<br>Ratio=%{y}<extra></extra>",
         "legendgroup": "siMMS22L_+dox-02",
         "marker": {
          "color": "#e64553"
         },
         "name": "siMMS22L_+dox-02",
         "notched": false,
         "offsetgroup": "siMMS22L_+dox-02",
         "orientation": "v",
         "showlegend": true,
         "type": "box",
         "x": [
          "siMMS22L_+dox-02",
          "siMMS22L_+dox-02",
          "siMMS22L_+dox-02",
          "siMMS22L_+dox-02",
          "siMMS22L_+dox-02",
          "siMMS22L_+dox-02",
          "siMMS22L_+dox-02",
          "siMMS22L_+dox-02",
          "siMMS22L_+dox-02",
          "siMMS22L_+dox-02",
          "siMMS22L_+dox-02",
          "siMMS22L_+dox-02",
          "siMMS22L_+dox-02",
          "siMMS22L_+dox-02",
          "siMMS22L_+dox-02"
         ],
         "x0": " ",
         "xaxis": "x",
         "y": [
          0.3414634146333135,
          0.3770491803272507,
          0.30952380952307257,
          0.39999999999933333,
          0.5512820512813444,
          0.21276595744635582,
          0.4166666666659722,
          0.18072289156604732,
          0.592592592591861,
          0.27272727272665287,
          0.4067796610162597,
          1.2499999999960938,
          1.116279069764846,
          0.2340425531909914,
          0.42622950819602257
         ],
         "y0": " ",
         "yaxis": "y"
        },
        {
         "alignmentgroup": "True",
         "boxpoints": false,
         "hovertemplate": "Type=%{x}<br>Ratio=%{y}<extra></extra>",
         "legendgroup": "siB+M-04",
         "marker": {
          "color": "#fe640b"
         },
         "name": "siB+M-04",
         "notched": false,
         "offsetgroup": "siB+M-04",
         "orientation": "v",
         "showlegend": true,
         "type": "box",
         "x": [
          "siB+M-04",
          "siB+M-04",
          "siB+M-04",
          "siB+M-04",
          "siB+M-04",
          "siB+M-04",
          "siB+M-04",
          "siB+M-04",
          "siB+M-04",
          "siB+M-04",
          "siB+M-04",
          "siB+M-04",
          "siB+M-04",
          "siB+M-04",
          "siB+M-04",
          "siB+M-04",
          "siB+M-04",
          "siB+M-04",
          "siB+M-04",
          "siB+M-04",
          "siB+M-04",
          "siB+M-04",
          "siB+M-04",
          "siB+M-04",
          "siB+M-04",
          "siB+M-04",
          "siB+M-04",
          "siB+M-04",
          "siB+M-04",
          "siB+M-04",
          "siB+M-04",
          "siB+M-04",
          "siB+M-04",
          "siB+M-04",
          "siB+M-04",
          "siB+M-04",
          "siB+M-04",
          "siB+M-04",
          "siB+M-04",
          "siB+M-04",
          "siB+M-04",
          "siB+M-04",
          "siB+M-04",
          "siB+M-04",
          "siB+M-04",
          "siB+M-04",
          "siB+M-04",
          "siB+M-04",
          "siB+M-04",
          "siB+M-04",
          "siB+M-04",
          "siB+M-04",
          "siB+M-04",
          "siB+M-04",
          "siB+M-04",
          "siB+M-04",
          "siB+M-04",
          "siB+M-04"
         ],
         "x0": " ",
         "xaxis": "x",
         "y": [
          0.39130434782438567,
          0.9615384615347634,
          1.1249999999953126,
          0.9166666666628472,
          0.74999999999375,
          1.3181818181758265,
          1.1578947368360113,
          1.4374999999910159,
          0.6176470588217128,
          1.2399999999950402,
          0.3333333333319445,
          0.5862068965497028,
          0.478260869563138,
          1.1999999999952,
          0.9629629629593965,
          0.7037037037010975,
          0.8055555555533178,
          0.999999999990909,
          1.3529411764626298,
          1.6315789473598339,
          2.222222222197531,
          1.4705882352854673,
          1.3571428571331632,
          0.6060606060587694,
          1.0416666666623264,
          0.7714285714263673,
          0.6666666666634922,
          0.8260869565181476,
          0.5652173913018904,
          0.9473684210476455,
          0.9999999999950001,
          0.5454545454520662,
          1.2083333333282986,
          0.9615384615347634,
          0.8888888888855968,
          0.9230769230698225,
          1.3181818181758265,
          1.4117647058740486,
          0.7187499999977539,
          1.5499999999922502,
          0.8888888888839507,
          1.09523809523288,
          0.599999999997,
          0.9999999999960001,
          0.9230769230733729,
          0.6923076923050296,
          0.9090909090826447,
          1.1176470588169551,
          1.3181818181758265,
          0.7096774193525495,
          1.4499999999927502,
          0.9166666666628472,
          0.3999999999984,
          9.499999999525,
          1.9999999999857143,
          0.5142857142842449,
          1.5238095238022678,
          0.9032258064486993
         ],
         "y0": " ",
         "yaxis": "y"
        },
        {
         "alignmentgroup": "True",
         "boxpoints": false,
         "hovertemplate": "Type=%{x}<br>Ratio=%{y}<extra></extra>",
         "legendgroup": "siBRCA2-02",
         "marker": {
          "color": "#df8e1d"
         },
         "name": "siBRCA2-02",
         "notched": false,
         "offsetgroup": "siBRCA2-02",
         "orientation": "v",
         "showlegend": true,
         "type": "box",
         "x": [
          "siBRCA2-02",
          "siBRCA2-02",
          "siBRCA2-02",
          "siBRCA2-02",
          "siBRCA2-02",
          "siBRCA2-02",
          "siBRCA2-02",
          "siBRCA2-02",
          "siBRCA2-02",
          "siBRCA2-02",
          "siBRCA2-02",
          "siBRCA2-02",
          "siBRCA2-02",
          "siBRCA2-02",
          "siBRCA2-02",
          "siBRCA2-02",
          "siBRCA2-02",
          "siBRCA2-02",
          "siBRCA2-02",
          "siBRCA2-02",
          "siBRCA2-02",
          "siBRCA2-02",
          "siBRCA2-02",
          "siBRCA2-02"
         ],
         "x0": " ",
         "xaxis": "x",
         "y": [
          0.8913043478241494,
          0.5121951219499702,
          0.5294117647043253,
          1.1935483870929242,
          0.8863636363616219,
          0.7297297297277574,
          0.5937499999981445,
          1.107142857138903,
          1.0999999999963335,
          0.95999999999616,
          0.8936170212746944,
          0.7368421052612188,
          0.49999999999843747,
          1.230769230764497,
          1.1333333333295557,
          1.1199999999955201,
          0.7333333333317037,
          0.6486486486468955,
          0.6206896551702735,
          0.8666666666647407,
          0.7567567567547114,
          0.6451612903204995,
          1.2999999999956668,
          0.9666666666634445
         ],
         "y0": " ",
         "yaxis": "y"
        },
        {
         "alignmentgroup": "True",
         "boxpoints": false,
         "hovertemplate": "Type=%{x}<br>Ratio=%{y}<extra></extra>",
         "legendgroup": "siNT-02",
         "marker": {
          "color": "#40a02b"
         },
         "name": "siNT-02",
         "notched": false,
         "offsetgroup": "siNT-02",
         "orientation": "v",
         "showlegend": true,
         "type": "box",
         "x": [
          "siNT-02",
          "siNT-02",
          "siNT-02",
          "siNT-02",
          "siNT-02",
          "siNT-02",
          "siNT-02",
          "siNT-02",
          "siNT-02",
          "siNT-02",
          "siNT-02",
          "siNT-02",
          "siNT-02",
          "siNT-02",
          "siNT-02",
          "siNT-02",
          "siNT-02",
          "siNT-02",
          "siNT-02",
          "siNT-02",
          "siNT-02",
          "siNT-02",
          "siNT-02",
          "siNT-02",
          "siNT-02",
          "siNT-02",
          "siNT-02",
          "siNT-02",
          "siNT-02",
          "siNT-02",
          "siNT-02",
          "siNT-02",
          "siNT-02",
          "siNT-02"
         ],
         "x0": " ",
         "xaxis": "x",
         "y": [
          0.5999999999990769,
          0.5757575757567034,
          0.3249999999995937,
          0.7812499999987793,
          0.5967741935474246,
          0.6086956521730309,
          0.8846153846136834,
          0.27142857142818366,
          0.5156249999991943,
          0.333333333332906,
          0.6346153846141642,
          0.614035087718221,
          0.40277777777721835,
          0.4428571428565102,
          0.6515151515141644,
          0.5441176470580233,
          0.3499999999995625,
          0.8275862068951249,
          0.9772727272705062,
          0.6727272727260496,
          0.5312499999991699,
          0.5138888888881752,
          0.5652173913035287,
          0.5384615384607101,
          0.324675324674903,
          0.5084745762703246,
          0.4428571428565102,
          0.7916666666650173,
          0.7656249999988037,
          0.7037037037024005,
          0.9999999999965518,
          0.4857142857135918,
          0.6417910447751615,
          0.17391304347750475
         ],
         "y0": " ",
         "yaxis": "y"
        },
        {
         "alignmentgroup": "True",
         "boxpoints": false,
         "hovertemplate": "Type=%{x}<br>Ratio=%{y}<extra></extra>",
         "legendgroup": "siBRCA2-03",
         "marker": {
          "color": "#179299"
         },
         "name": "siBRCA2-03",
         "notched": false,
         "offsetgroup": "siBRCA2-03",
         "orientation": "v",
         "showlegend": true,
         "type": "box",
         "x": [
          "siBRCA2-03",
          "siBRCA2-03",
          "siBRCA2-03",
          "siBRCA2-03",
          "siBRCA2-03",
          "siBRCA2-03",
          "siBRCA2-03",
          "siBRCA2-03",
          "siBRCA2-03",
          "siBRCA2-03",
          "siBRCA2-03",
          "siBRCA2-03",
          "siBRCA2-03",
          "siBRCA2-03",
          "siBRCA2-03",
          "siBRCA2-03",
          "siBRCA2-03",
          "siBRCA2-03",
          "siBRCA2-03",
          "siBRCA2-03",
          "siBRCA2-03",
          "siBRCA2-03",
          "siBRCA2-03",
          "siBRCA2-03",
          "siBRCA2-03",
          "siBRCA2-03",
          "siBRCA2-03",
          "siBRCA2-03"
         ],
         "x0": " ",
         "xaxis": "x",
         "y": [
          0.33333333333055554,
          1.6874999999894533,
          0.6842105263121885,
          0.8378378378355734,
          0.7999999999982222,
          0.37037037036899867,
          0.42105263157783934,
          1.5882352941083047,
          0.7368421052592798,
          0.8205128205107166,
          1.0243902438999404,
          0.6122448979579341,
          0.7777777777756173,
          0.799999999992,
          0.7272727272705234,
          0.16279069767404,
          0.5142857142842449,
          1.9374999999878908,
          0.799999999998,
          0.764705882350692,
          0.931818181816064,
          0.5483870967724246,
          0.5806451612884496,
          0.5161290322563996,
          1.1562499999963867,
          0.4054054054043097,
          0.5333333333315556,
          0.9583333333293403
         ],
         "y0": " ",
         "yaxis": "y"
        },
        {
         "alignmentgroup": "True",
         "boxpoints": false,
         "hovertemplate": "Type=%{x}<br>Ratio=%{y}<extra></extra>",
         "legendgroup": "59_siBRCA2-02",
         "marker": {
          "color": "#04a5e5"
         },
         "name": "59_siBRCA2-02",
         "notched": false,
         "offsetgroup": "59_siBRCA2-02",
         "orientation": "v",
         "showlegend": true,
         "type": "box",
         "x": [
          "59_siBRCA2-02",
          "59_siBRCA2-02",
          "59_siBRCA2-02",
          "59_siBRCA2-02",
          "59_siBRCA2-02",
          "59_siBRCA2-02",
          "59_siBRCA2-02",
          "59_siBRCA2-02",
          "59_siBRCA2-02"
         ],
         "x0": " ",
         "xaxis": "x",
         "y": [
          0.6551724137908442,
          1.047619047614059,
          0.5599999999977601,
          0.6666666666592592,
          1.09523809523288,
          0.28571428571346935,
          0.45945945945821765,
          0.7804878048761451,
          1.1578947368360113
         ],
         "y0": " ",
         "yaxis": "y"
        },
        {
         "alignmentgroup": "True",
         "boxpoints": false,
         "hovertemplate": "Type=%{x}<br>Ratio=%{y}<extra></extra>",
         "legendgroup": "siBRCA2-01",
         "marker": {
          "color": "#209fb5"
         },
         "name": "siBRCA2-01",
         "notched": false,
         "offsetgroup": "siBRCA2-01",
         "orientation": "v",
         "showlegend": true,
         "type": "box",
         "x": [
          "siBRCA2-01",
          "siBRCA2-01",
          "siBRCA2-01",
          "siBRCA2-01",
          "siBRCA2-01",
          "siBRCA2-01"
         ],
         "x0": " ",
         "xaxis": "x",
         "y": [
          0.7333333333284444,
          0.6172839506165219,
          0.9782608695630907,
          0.6962025316446884,
          0.93478260869362,
          1.0454545454521693
         ],
         "y0": " ",
         "yaxis": "y"
        }
       ],
       "layout": {
        "boxmode": "overlay",
        "legend": {
         "title": {
          "text": "Type"
         },
         "tracegroupgap": 0
        },
        "margin": {
         "t": 75
        },
        "template": {
         "data": {
          "bar": [
           {
            "error_x": {
             "color": "rgb(51,51,51)"
            },
            "error_y": {
             "color": "rgb(51,51,51)"
            },
            "marker": {
             "line": {
              "color": "rgb(237,237,237)",
              "width": 0.5
             },
             "pattern": {
              "fillmode": "overlay",
              "size": 10,
              "solidity": 0.2
             }
            },
            "type": "bar"
           }
          ],
          "barpolar": [
           {
            "marker": {
             "line": {
              "color": "rgb(237,237,237)",
              "width": 0.5
             },
             "pattern": {
              "fillmode": "overlay",
              "size": 10,
              "solidity": 0.2
             }
            },
            "type": "barpolar"
           }
          ],
          "carpet": [
           {
            "aaxis": {
             "endlinecolor": "rgb(51,51,51)",
             "gridcolor": "white",
             "linecolor": "white",
             "minorgridcolor": "white",
             "startlinecolor": "rgb(51,51,51)"
            },
            "baxis": {
             "endlinecolor": "rgb(51,51,51)",
             "gridcolor": "white",
             "linecolor": "white",
             "minorgridcolor": "white",
             "startlinecolor": "rgb(51,51,51)"
            },
            "type": "carpet"
           }
          ],
          "choropleth": [
           {
            "colorbar": {
             "outlinewidth": 0,
             "tickcolor": "rgb(237,237,237)",
             "ticklen": 6,
             "ticks": "inside"
            },
            "type": "choropleth"
           }
          ],
          "contour": [
           {
            "colorbar": {
             "outlinewidth": 0,
             "tickcolor": "rgb(237,237,237)",
             "ticklen": 6,
             "ticks": "inside"
            },
            "colorscale": [
             [
              0,
              "rgb(20,44,66)"
             ],
             [
              1,
              "rgb(90,179,244)"
             ]
            ],
            "type": "contour"
           }
          ],
          "contourcarpet": [
           {
            "colorbar": {
             "outlinewidth": 0,
             "tickcolor": "rgb(237,237,237)",
             "ticklen": 6,
             "ticks": "inside"
            },
            "type": "contourcarpet"
           }
          ],
          "heatmap": [
           {
            "colorbar": {
             "outlinewidth": 0,
             "tickcolor": "rgb(237,237,237)",
             "ticklen": 6,
             "ticks": "inside"
            },
            "colorscale": [
             [
              0,
              "rgb(20,44,66)"
             ],
             [
              1,
              "rgb(90,179,244)"
             ]
            ],
            "type": "heatmap"
           }
          ],
          "heatmapgl": [
           {
            "colorbar": {
             "outlinewidth": 0,
             "tickcolor": "rgb(237,237,237)",
             "ticklen": 6,
             "ticks": "inside"
            },
            "colorscale": [
             [
              0,
              "rgb(20,44,66)"
             ],
             [
              1,
              "rgb(90,179,244)"
             ]
            ],
            "type": "heatmapgl"
           }
          ],
          "histogram": [
           {
            "marker": {
             "pattern": {
              "fillmode": "overlay",
              "size": 10,
              "solidity": 0.2
             }
            },
            "type": "histogram"
           }
          ],
          "histogram2d": [
           {
            "colorbar": {
             "outlinewidth": 0,
             "tickcolor": "rgb(237,237,237)",
             "ticklen": 6,
             "ticks": "inside"
            },
            "colorscale": [
             [
              0,
              "rgb(20,44,66)"
             ],
             [
              1,
              "rgb(90,179,244)"
             ]
            ],
            "type": "histogram2d"
           }
          ],
          "histogram2dcontour": [
           {
            "colorbar": {
             "outlinewidth": 0,
             "tickcolor": "rgb(237,237,237)",
             "ticklen": 6,
             "ticks": "inside"
            },
            "colorscale": [
             [
              0,
              "rgb(20,44,66)"
             ],
             [
              1,
              "rgb(90,179,244)"
             ]
            ],
            "type": "histogram2dcontour"
           }
          ],
          "mesh3d": [
           {
            "colorbar": {
             "outlinewidth": 0,
             "tickcolor": "rgb(237,237,237)",
             "ticklen": 6,
             "ticks": "inside"
            },
            "type": "mesh3d"
           }
          ],
          "parcoords": [
           {
            "line": {
             "colorbar": {
              "outlinewidth": 0,
              "tickcolor": "rgb(237,237,237)",
              "ticklen": 6,
              "ticks": "inside"
             }
            },
            "type": "parcoords"
           }
          ],
          "pie": [
           {
            "automargin": true,
            "type": "pie"
           }
          ],
          "scatter": [
           {
            "fillpattern": {
             "fillmode": "overlay",
             "size": 10,
             "solidity": 0.2
            },
            "type": "scatter"
           }
          ],
          "scatter3d": [
           {
            "line": {
             "colorbar": {
              "outlinewidth": 0,
              "tickcolor": "rgb(237,237,237)",
              "ticklen": 6,
              "ticks": "inside"
             }
            },
            "marker": {
             "colorbar": {
              "outlinewidth": 0,
              "tickcolor": "rgb(237,237,237)",
              "ticklen": 6,
              "ticks": "inside"
             }
            },
            "type": "scatter3d"
           }
          ],
          "scattercarpet": [
           {
            "marker": {
             "colorbar": {
              "outlinewidth": 0,
              "tickcolor": "rgb(237,237,237)",
              "ticklen": 6,
              "ticks": "inside"
             }
            },
            "type": "scattercarpet"
           }
          ],
          "scattergeo": [
           {
            "marker": {
             "colorbar": {
              "outlinewidth": 0,
              "tickcolor": "rgb(237,237,237)",
              "ticklen": 6,
              "ticks": "inside"
             }
            },
            "type": "scattergeo"
           }
          ],
          "scattergl": [
           {
            "marker": {
             "colorbar": {
              "outlinewidth": 0,
              "tickcolor": "rgb(237,237,237)",
              "ticklen": 6,
              "ticks": "inside"
             }
            },
            "type": "scattergl"
           }
          ],
          "scattermapbox": [
           {
            "marker": {
             "colorbar": {
              "outlinewidth": 0,
              "tickcolor": "rgb(237,237,237)",
              "ticklen": 6,
              "ticks": "inside"
             }
            },
            "type": "scattermapbox"
           }
          ],
          "scatterpolar": [
           {
            "marker": {
             "colorbar": {
              "outlinewidth": 0,
              "tickcolor": "rgb(237,237,237)",
              "ticklen": 6,
              "ticks": "inside"
             }
            },
            "type": "scatterpolar"
           }
          ],
          "scatterpolargl": [
           {
            "marker": {
             "colorbar": {
              "outlinewidth": 0,
              "tickcolor": "rgb(237,237,237)",
              "ticklen": 6,
              "ticks": "inside"
             }
            },
            "type": "scatterpolargl"
           }
          ],
          "scatterternary": [
           {
            "marker": {
             "colorbar": {
              "outlinewidth": 0,
              "tickcolor": "rgb(237,237,237)",
              "ticklen": 6,
              "ticks": "inside"
             }
            },
            "type": "scatterternary"
           }
          ],
          "surface": [
           {
            "colorbar": {
             "outlinewidth": 0,
             "tickcolor": "rgb(237,237,237)",
             "ticklen": 6,
             "ticks": "inside"
            },
            "colorscale": [
             [
              0,
              "rgb(20,44,66)"
             ],
             [
              1,
              "rgb(90,179,244)"
             ]
            ],
            "type": "surface"
           }
          ],
          "table": [
           {
            "cells": {
             "fill": {
              "color": "rgb(237,237,237)"
             },
             "line": {
              "color": "white"
             }
            },
            "header": {
             "fill": {
              "color": "rgb(217,217,217)"
             },
             "line": {
              "color": "white"
             }
            },
            "type": "table"
           }
          ]
         },
         "layout": {
          "annotationdefaults": {
           "arrowhead": 0,
           "arrowwidth": 1
          },
          "autotypenumbers": "strict",
          "coloraxis": {
           "colorbar": {
            "outlinewidth": 0,
            "tickcolor": "rgb(237,237,237)",
            "ticklen": 6,
            "ticks": "inside"
           }
          },
          "colorscale": {
           "sequential": [
            [
             0,
             "rgb(20,44,66)"
            ],
            [
             1,
             "rgb(90,179,244)"
            ]
           ],
           "sequentialminus": [
            [
             0,
             "rgb(20,44,66)"
            ],
            [
             1,
             "rgb(90,179,244)"
            ]
           ]
          },
          "colorway": [
           "#F8766D",
           "#A3A500",
           "#00BF7D",
           "#00B0F6",
           "#E76BF3"
          ],
          "font": {
           "color": "rgb(51,51,51)"
          },
          "geo": {
           "bgcolor": "white",
           "lakecolor": "white",
           "landcolor": "rgb(237,237,237)",
           "showlakes": true,
           "showland": true,
           "subunitcolor": "white"
          },
          "hoverlabel": {
           "align": "left"
          },
          "hovermode": "closest",
          "paper_bgcolor": "white",
          "plot_bgcolor": "rgb(237,237,237)",
          "polar": {
           "angularaxis": {
            "gridcolor": "white",
            "linecolor": "white",
            "showgrid": true,
            "tickcolor": "rgb(51,51,51)",
            "ticks": "outside"
           },
           "bgcolor": "rgb(237,237,237)",
           "radialaxis": {
            "gridcolor": "white",
            "linecolor": "white",
            "showgrid": true,
            "tickcolor": "rgb(51,51,51)",
            "ticks": "outside"
           }
          },
          "scene": {
           "xaxis": {
            "backgroundcolor": "rgb(237,237,237)",
            "gridcolor": "white",
            "gridwidth": 2,
            "linecolor": "white",
            "showbackground": true,
            "showgrid": true,
            "tickcolor": "rgb(51,51,51)",
            "ticks": "outside",
            "zerolinecolor": "white"
           },
           "yaxis": {
            "backgroundcolor": "rgb(237,237,237)",
            "gridcolor": "white",
            "gridwidth": 2,
            "linecolor": "white",
            "showbackground": true,
            "showgrid": true,
            "tickcolor": "rgb(51,51,51)",
            "ticks": "outside",
            "zerolinecolor": "white"
           },
           "zaxis": {
            "backgroundcolor": "rgb(237,237,237)",
            "gridcolor": "white",
            "gridwidth": 2,
            "linecolor": "white",
            "showbackground": true,
            "showgrid": true,
            "tickcolor": "rgb(51,51,51)",
            "ticks": "outside",
            "zerolinecolor": "white"
           }
          },
          "shapedefaults": {
           "fillcolor": "black",
           "line": {
            "width": 0
           },
           "opacity": 0.3
          },
          "ternary": {
           "aaxis": {
            "gridcolor": "white",
            "linecolor": "white",
            "showgrid": true,
            "tickcolor": "rgb(51,51,51)",
            "ticks": "outside"
           },
           "baxis": {
            "gridcolor": "white",
            "linecolor": "white",
            "showgrid": true,
            "tickcolor": "rgb(51,51,51)",
            "ticks": "outside"
           },
           "bgcolor": "rgb(237,237,237)",
           "caxis": {
            "gridcolor": "white",
            "linecolor": "white",
            "showgrid": true,
            "tickcolor": "rgb(51,51,51)",
            "ticks": "outside"
           }
          },
          "xaxis": {
           "automargin": true,
           "gridcolor": "white",
           "linecolor": "white",
           "showgrid": true,
           "tickcolor": "rgb(51,51,51)",
           "ticks": "outside",
           "title": {
            "standoff": 15
           },
           "zerolinecolor": "white"
          },
          "yaxis": {
           "automargin": true,
           "gridcolor": "white",
           "linecolor": "white",
           "showgrid": true,
           "tickcolor": "rgb(51,51,51)",
           "ticks": "outside",
           "title": {
            "standoff": 15
           },
           "zerolinecolor": "white"
          }
         }
        },
        "xaxis": {
         "anchor": "y",
         "categoryarray": [
          "siMMS22L_+dox-01",
          "siBRCA2+SMARCAL KO-04",
          "HLTF ko+si MMS22L-01",
          "siBRCA2+SMARCAL KO-03",
          "siTONSL-03",
          "siMMS22L_+dox-02",
          "siB+M-04",
          "siBRCA2-02",
          "siNT-02",
          "siBRCA2-03",
          "59_siBRCA2-02",
          "siBRCA2-01"
         ],
         "categoryorder": "array",
         "domain": [
          0,
          1
         ],
         "title": {
          "text": "Type"
         }
        },
        "yaxis": {
         "anchor": "x",
         "domain": [
          0,
          1
         ],
         "title": {
          "text": "Ratio"
         }
        }
       }
      }
     },
     "metadata": {},
     "output_type": "display_data"
    }
   ],
   "source": [
    "fig = px.box(\n",
    "    filtered,\n",
    "    y=\"Ratio\",\n",
    "    x=\"Type\",\n",
    "    points=False,  # can be 'outliers', or False\n",
    "    color=\"Type\",\n",
    "    template=\"ggplot2\",\n",
    "    color_discrete_sequence=colors,)\n",
    "# fig = add_p_value_annotation(fig, [[0,1], [1,2], [1,3]], stats_test=stats.mannwhitneyu)\n",
    "\n",
    "# Increase top margin to make room for the title\n",
    "fig.update_layout(margin=dict(t=75))\n",
    "fig.show()"
   ]
  }
 ],
 "metadata": {
  "kernelspec": {
   "display_name": "torch",
   "language": "python",
   "name": "python3"
  },
  "language_info": {
   "codemirror_mode": {
    "name": "ipython",
    "version": 3
   },
   "file_extension": ".py",
   "mimetype": "text/x-python",
   "name": "python",
   "nbconvert_exporter": "python",
   "pygments_lexer": "ipython3",
   "version": "3.12.10"
  }
 },
 "nbformat": 4,
 "nbformat_minor": 5
}
